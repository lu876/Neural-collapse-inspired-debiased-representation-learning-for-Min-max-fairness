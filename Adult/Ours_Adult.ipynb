{
 "cells": [
  {
   "cell_type": "code",
   "execution_count": 1,
   "id": "e4409643",
   "metadata": {},
   "outputs": [
    {
     "data": {
      "text/html": [
       "<div>\n",
       "<style scoped>\n",
       "    .dataframe tbody tr th:only-of-type {\n",
       "        vertical-align: middle;\n",
       "    }\n",
       "\n",
       "    .dataframe tbody tr th {\n",
       "        vertical-align: top;\n",
       "    }\n",
       "\n",
       "    .dataframe thead th {\n",
       "        text-align: right;\n",
       "    }\n",
       "</style>\n",
       "<table border=\"1\" class=\"dataframe\">\n",
       "  <thead>\n",
       "    <tr style=\"text-align: right;\">\n",
       "      <th></th>\n",
       "      <th>age</th>\n",
       "      <th>fnlwgt</th>\n",
       "      <th>education-num</th>\n",
       "      <th>marital-status</th>\n",
       "      <th>race</th>\n",
       "      <th>sex</th>\n",
       "      <th>capital-gain</th>\n",
       "      <th>capital-loss</th>\n",
       "      <th>hours-per-week</th>\n",
       "      <th>native-country</th>\n",
       "      <th>...</th>\n",
       "      <th>occupation_4</th>\n",
       "      <th>occupation_5</th>\n",
       "      <th>occupation_6</th>\n",
       "      <th>occupation_7</th>\n",
       "      <th>occupation_8</th>\n",
       "      <th>occupation_9</th>\n",
       "      <th>occupation_10</th>\n",
       "      <th>occupation_11</th>\n",
       "      <th>occupation_12</th>\n",
       "      <th>occupation_13</th>\n",
       "    </tr>\n",
       "  </thead>\n",
       "  <tbody>\n",
       "    <tr>\n",
       "      <th>0</th>\n",
       "      <td>-1.029005</td>\n",
       "      <td>0.352098</td>\n",
       "      <td>-1.216563</td>\n",
       "      <td>1</td>\n",
       "      <td>1</td>\n",
       "      <td>1</td>\n",
       "      <td>0</td>\n",
       "      <td>0</td>\n",
       "      <td>-0.078889</td>\n",
       "      <td>1</td>\n",
       "      <td>...</td>\n",
       "      <td>0</td>\n",
       "      <td>0</td>\n",
       "      <td>0</td>\n",
       "      <td>0</td>\n",
       "      <td>1</td>\n",
       "      <td>0</td>\n",
       "      <td>0</td>\n",
       "      <td>0</td>\n",
       "      <td>0</td>\n",
       "      <td>0</td>\n",
       "    </tr>\n",
       "    <tr>\n",
       "      <th>1</th>\n",
       "      <td>-0.057423</td>\n",
       "      <td>-0.944995</td>\n",
       "      <td>-0.434898</td>\n",
       "      <td>0</td>\n",
       "      <td>0</td>\n",
       "      <td>1</td>\n",
       "      <td>0</td>\n",
       "      <td>0</td>\n",
       "      <td>0.750131</td>\n",
       "      <td>1</td>\n",
       "      <td>...</td>\n",
       "      <td>0</td>\n",
       "      <td>0</td>\n",
       "      <td>0</td>\n",
       "      <td>1</td>\n",
       "      <td>0</td>\n",
       "      <td>0</td>\n",
       "      <td>0</td>\n",
       "      <td>0</td>\n",
       "      <td>0</td>\n",
       "      <td>0</td>\n",
       "    </tr>\n",
       "    <tr>\n",
       "      <th>2</th>\n",
       "      <td>-0.804794</td>\n",
       "      <td>1.395062</td>\n",
       "      <td>0.737599</td>\n",
       "      <td>0</td>\n",
       "      <td>0</td>\n",
       "      <td>1</td>\n",
       "      <td>0</td>\n",
       "      <td>0</td>\n",
       "      <td>-0.078889</td>\n",
       "      <td>1</td>\n",
       "      <td>...</td>\n",
       "      <td>0</td>\n",
       "      <td>0</td>\n",
       "      <td>0</td>\n",
       "      <td>0</td>\n",
       "      <td>0</td>\n",
       "      <td>0</td>\n",
       "      <td>0</td>\n",
       "      <td>1</td>\n",
       "      <td>0</td>\n",
       "      <td>0</td>\n",
       "    </tr>\n",
       "    <tr>\n",
       "      <th>3</th>\n",
       "      <td>0.391000</td>\n",
       "      <td>-0.277369</td>\n",
       "      <td>-0.044066</td>\n",
       "      <td>0</td>\n",
       "      <td>1</td>\n",
       "      <td>1</td>\n",
       "      <td>1</td>\n",
       "      <td>0</td>\n",
       "      <td>-0.078889</td>\n",
       "      <td>1</td>\n",
       "      <td>...</td>\n",
       "      <td>0</td>\n",
       "      <td>0</td>\n",
       "      <td>0</td>\n",
       "      <td>0</td>\n",
       "      <td>1</td>\n",
       "      <td>0</td>\n",
       "      <td>0</td>\n",
       "      <td>0</td>\n",
       "      <td>0</td>\n",
       "      <td>0</td>\n",
       "    </tr>\n",
       "    <tr>\n",
       "      <th>5</th>\n",
       "      <td>-0.356371</td>\n",
       "      <td>0.085944</td>\n",
       "      <td>-1.607395</td>\n",
       "      <td>1</td>\n",
       "      <td>0</td>\n",
       "      <td>1</td>\n",
       "      <td>0</td>\n",
       "      <td>0</td>\n",
       "      <td>-0.907909</td>\n",
       "      <td>1</td>\n",
       "      <td>...</td>\n",
       "      <td>1</td>\n",
       "      <td>0</td>\n",
       "      <td>0</td>\n",
       "      <td>0</td>\n",
       "      <td>0</td>\n",
       "      <td>0</td>\n",
       "      <td>0</td>\n",
       "      <td>0</td>\n",
       "      <td>0</td>\n",
       "      <td>0</td>\n",
       "    </tr>\n",
       "    <tr>\n",
       "      <th>...</th>\n",
       "      <td>...</td>\n",
       "      <td>...</td>\n",
       "      <td>...</td>\n",
       "      <td>...</td>\n",
       "      <td>...</td>\n",
       "      <td>...</td>\n",
       "      <td>...</td>\n",
       "      <td>...</td>\n",
       "      <td>...</td>\n",
       "      <td>...</td>\n",
       "      <td>...</td>\n",
       "      <td>...</td>\n",
       "      <td>...</td>\n",
       "      <td>...</td>\n",
       "      <td>...</td>\n",
       "      <td>...</td>\n",
       "      <td>...</td>\n",
       "      <td>...</td>\n",
       "      <td>...</td>\n",
       "      <td>...</td>\n",
       "      <td>...</td>\n",
       "    </tr>\n",
       "    <tr>\n",
       "      <th>16275</th>\n",
       "      <td>-0.431108</td>\n",
       "      <td>0.526407</td>\n",
       "      <td>1.128431</td>\n",
       "      <td>1</td>\n",
       "      <td>0</td>\n",
       "      <td>1</td>\n",
       "      <td>0</td>\n",
       "      <td>0</td>\n",
       "      <td>-0.078889</td>\n",
       "      <td>1</td>\n",
       "      <td>...</td>\n",
       "      <td>0</td>\n",
       "      <td>0</td>\n",
       "      <td>0</td>\n",
       "      <td>0</td>\n",
       "      <td>0</td>\n",
       "      <td>0</td>\n",
       "      <td>0</td>\n",
       "      <td>0</td>\n",
       "      <td>0</td>\n",
       "      <td>0</td>\n",
       "    </tr>\n",
       "    <tr>\n",
       "      <th>16276</th>\n",
       "      <td>0.017315</td>\n",
       "      <td>0.244316</td>\n",
       "      <td>1.128431</td>\n",
       "      <td>1</td>\n",
       "      <td>0</td>\n",
       "      <td>0</td>\n",
       "      <td>0</td>\n",
       "      <td>0</td>\n",
       "      <td>-0.410497</td>\n",
       "      <td>1</td>\n",
       "      <td>...</td>\n",
       "      <td>0</td>\n",
       "      <td>0</td>\n",
       "      <td>0</td>\n",
       "      <td>0</td>\n",
       "      <td>0</td>\n",
       "      <td>0</td>\n",
       "      <td>0</td>\n",
       "      <td>0</td>\n",
       "      <td>0</td>\n",
       "      <td>0</td>\n",
       "    </tr>\n",
       "    <tr>\n",
       "      <th>16278</th>\n",
       "      <td>-0.057423</td>\n",
       "      <td>1.755175</td>\n",
       "      <td>1.128431</td>\n",
       "      <td>0</td>\n",
       "      <td>0</td>\n",
       "      <td>1</td>\n",
       "      <td>0</td>\n",
       "      <td>0</td>\n",
       "      <td>0.750131</td>\n",
       "      <td>1</td>\n",
       "      <td>...</td>\n",
       "      <td>0</td>\n",
       "      <td>0</td>\n",
       "      <td>0</td>\n",
       "      <td>0</td>\n",
       "      <td>0</td>\n",
       "      <td>0</td>\n",
       "      <td>0</td>\n",
       "      <td>0</td>\n",
       "      <td>0</td>\n",
       "      <td>0</td>\n",
       "    </tr>\n",
       "    <tr>\n",
       "      <th>16279</th>\n",
       "      <td>0.391000</td>\n",
       "      <td>-1.001078</td>\n",
       "      <td>1.128431</td>\n",
       "      <td>1</td>\n",
       "      <td>1</td>\n",
       "      <td>1</td>\n",
       "      <td>1</td>\n",
       "      <td>0</td>\n",
       "      <td>-0.078889</td>\n",
       "      <td>1</td>\n",
       "      <td>...</td>\n",
       "      <td>0</td>\n",
       "      <td>0</td>\n",
       "      <td>0</td>\n",
       "      <td>0</td>\n",
       "      <td>0</td>\n",
       "      <td>0</td>\n",
       "      <td>0</td>\n",
       "      <td>0</td>\n",
       "      <td>0</td>\n",
       "      <td>0</td>\n",
       "    </tr>\n",
       "    <tr>\n",
       "      <th>16280</th>\n",
       "      <td>-0.281634</td>\n",
       "      <td>-0.070716</td>\n",
       "      <td>1.128431</td>\n",
       "      <td>0</td>\n",
       "      <td>0</td>\n",
       "      <td>1</td>\n",
       "      <td>0</td>\n",
       "      <td>0</td>\n",
       "      <td>1.579152</td>\n",
       "      <td>1</td>\n",
       "      <td>...</td>\n",
       "      <td>0</td>\n",
       "      <td>0</td>\n",
       "      <td>0</td>\n",
       "      <td>0</td>\n",
       "      <td>0</td>\n",
       "      <td>0</td>\n",
       "      <td>0</td>\n",
       "      <td>0</td>\n",
       "      <td>0</td>\n",
       "      <td>0</td>\n",
       "    </tr>\n",
       "  </tbody>\n",
       "</table>\n",
       "<p>15060 rows × 35 columns</p>\n",
       "</div>"
      ],
      "text/plain": [
       "            age    fnlwgt  education-num  marital-status  race  sex  \\\n",
       "0     -1.029005  0.352098      -1.216563               1     1    1   \n",
       "1     -0.057423 -0.944995      -0.434898               0     0    1   \n",
       "2     -0.804794  1.395062       0.737599               0     0    1   \n",
       "3      0.391000 -0.277369      -0.044066               0     1    1   \n",
       "5     -0.356371  0.085944      -1.607395               1     0    1   \n",
       "...         ...       ...            ...             ...   ...  ...   \n",
       "16275 -0.431108  0.526407       1.128431               1     0    1   \n",
       "16276  0.017315  0.244316       1.128431               1     0    0   \n",
       "16278 -0.057423  1.755175       1.128431               0     0    1   \n",
       "16279  0.391000 -1.001078       1.128431               1     1    1   \n",
       "16280 -0.281634 -0.070716       1.128431               0     0    1   \n",
       "\n",
       "       capital-gain  capital-loss  hours-per-week  native-country  ...  \\\n",
       "0                 0             0       -0.078889               1  ...   \n",
       "1                 0             0        0.750131               1  ...   \n",
       "2                 0             0       -0.078889               1  ...   \n",
       "3                 1             0       -0.078889               1  ...   \n",
       "5                 0             0       -0.907909               1  ...   \n",
       "...             ...           ...             ...             ...  ...   \n",
       "16275             0             0       -0.078889               1  ...   \n",
       "16276             0             0       -0.410497               1  ...   \n",
       "16278             0             0        0.750131               1  ...   \n",
       "16279             1             0       -0.078889               1  ...   \n",
       "16280             0             0        1.579152               1  ...   \n",
       "\n",
       "       occupation_4  occupation_5  occupation_6  occupation_7  occupation_8  \\\n",
       "0                 0             0             0             0             1   \n",
       "1                 0             0             0             1             0   \n",
       "2                 0             0             0             0             0   \n",
       "3                 0             0             0             0             1   \n",
       "5                 1             0             0             0             0   \n",
       "...             ...           ...           ...           ...           ...   \n",
       "16275             0             0             0             0             0   \n",
       "16276             0             0             0             0             0   \n",
       "16278             0             0             0             0             0   \n",
       "16279             0             0             0             0             0   \n",
       "16280             0             0             0             0             0   \n",
       "\n",
       "       occupation_9  occupation_10  occupation_11  occupation_12  \\\n",
       "0                 0              0              0              0   \n",
       "1                 0              0              0              0   \n",
       "2                 0              0              1              0   \n",
       "3                 0              0              0              0   \n",
       "5                 0              0              0              0   \n",
       "...             ...            ...            ...            ...   \n",
       "16275             0              0              0              0   \n",
       "16276             0              0              0              0   \n",
       "16278             0              0              0              0   \n",
       "16279             0              0              0              0   \n",
       "16280             0              0              0              0   \n",
       "\n",
       "       occupation_13  \n",
       "0                  0  \n",
       "1                  0  \n",
       "2                  0  \n",
       "3                  0  \n",
       "5                  0  \n",
       "...              ...  \n",
       "16275              0  \n",
       "16276              0  \n",
       "16278              0  \n",
       "16279              0  \n",
       "16280              0  \n",
       "\n",
       "[15060 rows x 35 columns]"
      ]
     },
     "execution_count": 1,
     "metadata": {},
     "output_type": "execute_result"
    }
   ],
   "source": [
    "import json\n",
    "import pandas as pd\n",
    "from sklearn.neural_network import MLPClassifier\n",
    "from sklearn.model_selection import train_test_split\n",
    "import torch\n",
    "import torch.nn as nn\n",
    "import os\n",
    "import numpy as np\n",
    "from time import time\n",
    "import os\n",
    "from collections import OrderedDict\n",
    "from tqdm import tqdm, trange\n",
    "import torch.optim as optim\n",
    "import random\n",
    "import torch.nn.functional as F\n",
    "\n",
    "torch.set_num_threads(1)\n",
    "\n",
    "def seed_everything(seed):\n",
    "    \"\"\"\n",
    "    Changes the seed for reproducibility. \n",
    "    \"\"\"\n",
    "    random.seed(seed)\n",
    "    np.random.seed(seed)\n",
    "    torch.manual_seed(seed)\n",
    "    torch.backends.cudnn.deterministic = True\n",
    "    torch.backends.cudnn.benchmark = False\n",
    "    \n",
    "seed_everything(1024)\n",
    "device = torch.device(\"cuda:0\" if torch.cuda.is_available() else \"cpu\")\n",
    "path = r\"adult.json\"\n",
    "test_path = r\"adult_test.json\"\n",
    "train_df = pd.read_json(path)\n",
    "test_df = pd.read_json(test_path)\n",
    "test_df"
   ]
  },
  {
   "cell_type": "code",
   "execution_count": 2,
   "id": "64d327f8",
   "metadata": {},
   "outputs": [],
   "source": [
    "from sklearn.model_selection import train_test_split\n",
    "\n",
    "def get_naive_dataset(dataset):\n",
    "    X = dataset.drop(['income'], axis=1)\n",
    "    y = dataset['income']\n",
    "    x_train, x_test, y_train, y_test = train_test_split(X, y, test_size=0.25, random_state = 2**28 )# 2**(0))\n",
    "    a_train = x_train['sex']\n",
    "    a_test = x_test['sex']\n",
    "    x_train = x_train.drop(['race','sex'], axis=1)\n",
    "    x_test = x_test.drop(['race','sex'], axis=1)\n",
    "    return (x_train, y_train, a_train), (x_test, y_test, a_test)\n",
    "\n",
    "(x_train, y_train, a_train), (x_valid, y_valid, a_valid) = get_naive_dataset(train_df)\n",
    "x_test, y_test, a_test = test_df.drop(['income','race','sex'], axis=1), test_df['income'], test_df['sex']\n",
    "\n",
    "\n",
    "batch_size = 256\n",
    "def make_dataloader(data, y, a,batch_size):\n",
    "    dataset = BasicDataset(data, y, a)\n",
    "    dataloader = torch.utils.data.DataLoader(dataset, batch_size=batch_size, shuffle=True)\n",
    "    return dataloader\n",
    "\n",
    "\n",
    "class BasicDataset(torch.utils.data.Dataset):\n",
    "    def __init__(self, data, target, sensitive):\n",
    "        super().__init__()\n",
    "        self.data = torch.tensor(data.values)\n",
    "        self.target = torch.tensor(target.values)\n",
    "        self.sensitive = torch.tensor(sensitive.values)\n",
    "\n",
    "    def __len__(self):\n",
    "        return self.data.size(0)\n",
    "    \n",
    "    def __getitem__(self, idx):\n",
    "        return self.data.float()[idx], self.target[idx], self.sensitive[idx]\n",
    "    \n",
    "training_loader = make_dataloader(x_train, y_train, a_train, batch_size)\n",
    "valid_loader = make_dataloader(x_valid, y_valid, a_valid, batch_size)\n",
    "test_loader = make_dataloader(x_test, y_test, a_test, batch_size)"
   ]
  },
  {
   "cell_type": "code",
   "execution_count": 3,
   "id": "b277d7a4",
   "metadata": {},
   "outputs": [],
   "source": [
    "class Tablur_Model(nn.Module):\n",
    "    \n",
    "    def __init__(self):\n",
    "        super(Tablur_Model, self).__init__()\n",
    "        nodes = 32\n",
    "        self.relu = nn.ReLU(inplace=True)\n",
    "        self.dropout = nn.Dropout()\n",
    "        self.fc1 = nn.Linear(32, nodes)\n",
    "        self.fc2 = nn.Linear(nodes, 2*nodes)\n",
    "        \n",
    "\n",
    "    def forward(self, x):\n",
    "        x = self.relu(self.fc1(x))\n",
    "        x = self.relu(self.fc2(x))\n",
    "        return x"
   ]
  },
  {
   "cell_type": "code",
   "execution_count": 4,
   "id": "87848b08",
   "metadata": {
    "scrolled": true
   },
   "outputs": [
    {
     "name": "stderr",
     "output_type": "stream",
     "text": [
      "epoch 0.000000 : 100%|█████████████████████████████████████████████████| 89/89 [00:30<00:00,  2.93batch/s, ut_loss=1.88]\n"
     ]
    },
    {
     "name": "stdout",
     "output_type": "stream",
     "text": [
      "Testing\n"
     ]
    },
    {
     "name": "stderr",
     "output_type": "stream",
     "text": [
      "100%|████████████████████████████████████████████████████████████████████████████████| 59/59 [00:11<00:00,  5.01batch/s]\n"
     ]
    },
    {
     "name": "stdout",
     "output_type": "stream",
     "text": [
      "Accuracy for y=0, s=0: 0.8560606060606061 4356.0\n",
      "Accuracy for y=0, s=1: 0.7364363221016562 7004.0\n",
      "Accuracy for y=1, s=0: 0.7827648114901257 557.0\n",
      "Accuracy for y=1, s=1: 0.8017817371937639 3143.0\n"
     ]
    },
    {
     "name": "stderr",
     "output_type": "stream",
     "text": [
      "epoch 1.000000 : 100%|█████████████████████████████████████████████████| 89/89 [00:32<00:00,  2.74batch/s, ut_loss=1.46]\n"
     ]
    },
    {
     "name": "stdout",
     "output_type": "stream",
     "text": [
      "Testing\n"
     ]
    },
    {
     "name": "stderr",
     "output_type": "stream",
     "text": [
      "100%|████████████████████████████████████████████████████████████████████████████████| 59/59 [00:11<00:00,  4.99batch/s]\n"
     ]
    },
    {
     "name": "stdout",
     "output_type": "stream",
     "text": [
      "Accuracy for y=0, s=0: 0.8544536271808999 4356.0\n",
      "Accuracy for y=0, s=1: 0.7460022844089091 7004.0\n",
      "Accuracy for y=1, s=0: 0.8168761220825853 557.0\n",
      "Accuracy for y=1, s=1: 0.8122812599427299 3143.0\n"
     ]
    },
    {
     "name": "stderr",
     "output_type": "stream",
     "text": [
      "epoch 2.000000 : 100%|█████████████████████████████████████████████████| 89/89 [00:33<00:00,  2.69batch/s, ut_loss=2.25]\n"
     ]
    },
    {
     "name": "stdout",
     "output_type": "stream",
     "text": [
      "Testing\n"
     ]
    },
    {
     "name": "stderr",
     "output_type": "stream",
     "text": [
      "100%|████████████████████████████████████████████████████████████████████████████████| 59/59 [00:12<00:00,  4.86batch/s]\n"
     ]
    },
    {
     "name": "stdout",
     "output_type": "stream",
     "text": [
      "Accuracy for y=0, s=0: 0.8342516069788797 4356.0\n",
      "Accuracy for y=0, s=1: 0.7188749286122216 7004.0\n",
      "Accuracy for y=1, s=0: 0.8420107719928187 557.0\n",
      "Accuracy for y=1, s=1: 0.8332803054406618 3143.0\n"
     ]
    },
    {
     "name": "stderr",
     "output_type": "stream",
     "text": [
      "epoch 3.000000 : 100%|██████████████████████████████████████████████████| 89/89 [00:32<00:00,  2.73batch/s, ut_loss=1.6]\n"
     ]
    },
    {
     "name": "stdout",
     "output_type": "stream",
     "text": [
      "Testing\n"
     ]
    },
    {
     "name": "stderr",
     "output_type": "stream",
     "text": [
      "100%|████████████████████████████████████████████████████████████████████████████████| 59/59 [00:11<00:00,  5.00batch/s]\n"
     ]
    },
    {
     "name": "stdout",
     "output_type": "stream",
     "text": [
      "Accuracy for y=0, s=0: 0.8560606060606061 4356.0\n",
      "Accuracy for y=0, s=1: 0.7532838378069674 7004.0\n",
      "Accuracy for y=1, s=0: 0.8240574506283662 557.0\n",
      "Accuracy for y=1, s=1: 0.806554247534203 3143.0\n"
     ]
    },
    {
     "name": "stderr",
     "output_type": "stream",
     "text": [
      "epoch 4.000000 : 100%|██████████████████████████████████████████████████| 89/89 [00:33<00:00,  2.69batch/s, ut_loss=1.5]\n"
     ]
    },
    {
     "name": "stdout",
     "output_type": "stream",
     "text": [
      "Testing\n"
     ]
    },
    {
     "name": "stderr",
     "output_type": "stream",
     "text": [
      "100%|████████████████████████████████████████████████████████████████████████████████| 59/59 [00:13<00:00,  4.42batch/s]\n"
     ]
    },
    {
     "name": "stdout",
     "output_type": "stream",
     "text": [
      "Accuracy for y=0, s=0: 0.8477961432506887 4356.0\n",
      "Accuracy for y=0, s=1: 0.7464306110793832 7004.0\n",
      "Accuracy for y=1, s=0: 0.8348294434470377 557.0\n",
      "Accuracy for y=1, s=1: 0.8110085905186127 3143.0\n"
     ]
    },
    {
     "name": "stderr",
     "output_type": "stream",
     "text": [
      "epoch 5.000000 : 100%|█████████████████████████████████████████████████| 89/89 [00:31<00:00,  2.78batch/s, ut_loss=2.19]\n"
     ]
    },
    {
     "name": "stdout",
     "output_type": "stream",
     "text": [
      "Testing\n"
     ]
    },
    {
     "name": "stderr",
     "output_type": "stream",
     "text": [
      "100%|████████████████████████████████████████████████████████████████████████████████| 59/59 [00:13<00:00,  4.43batch/s]\n"
     ]
    },
    {
     "name": "stdout",
     "output_type": "stream",
     "text": [
      "Accuracy for y=0, s=0: 0.8542240587695134 4356.0\n",
      "Accuracy for y=0, s=1: 0.7551399200456882 7004.0\n",
      "Accuracy for y=1, s=0: 0.829443447037702 557.0\n",
      "Accuracy for y=1, s=1: 0.8059179128221444 3143.0\n"
     ]
    },
    {
     "name": "stderr",
     "output_type": "stream",
     "text": [
      "epoch 6.000000 : 100%|█████████████████████████████████████████████████| 89/89 [00:33<00:00,  2.67batch/s, ut_loss=1.54]\n"
     ]
    },
    {
     "name": "stdout",
     "output_type": "stream",
     "text": [
      "Testing\n"
     ]
    },
    {
     "name": "stderr",
     "output_type": "stream",
     "text": [
      "100%|████████████████████████████████████████████████████████████████████████████████| 59/59 [00:13<00:00,  4.42batch/s]\n"
     ]
    },
    {
     "name": "stdout",
     "output_type": "stream",
     "text": [
      "Accuracy for y=0, s=0: 0.8516988062442608 4356.0\n",
      "Accuracy for y=0, s=1: 0.7415762421473444 7004.0\n",
      "Accuracy for y=1, s=0: 0.8204667863554758 557.0\n",
      "Accuracy for y=1, s=1: 0.8189627744193446 3143.0\n"
     ]
    },
    {
     "name": "stderr",
     "output_type": "stream",
     "text": [
      "epoch 7.000000 : 100%|█████████████████████████████████████████████████| 89/89 [00:34<00:00,  2.58batch/s, ut_loss=1.48]\n"
     ]
    },
    {
     "name": "stdout",
     "output_type": "stream",
     "text": [
      "Testing\n"
     ]
    },
    {
     "name": "stderr",
     "output_type": "stream",
     "text": [
      "100%|████████████████████████████████████████████████████████████████████████████████| 59/59 [00:13<00:00,  4.53batch/s]\n"
     ]
    },
    {
     "name": "stdout",
     "output_type": "stream",
     "text": [
      "Accuracy for y=0, s=0: 0.8294306703397613 4356.0\n",
      "Accuracy for y=0, s=1: 0.7195888063963449 7004.0\n",
      "Accuracy for y=1, s=0: 0.8420107719928187 557.0\n",
      "Accuracy for y=1, s=1: 0.8450524976137448 3143.0\n"
     ]
    },
    {
     "name": "stderr",
     "output_type": "stream",
     "text": [
      "epoch 8.000000 : 100%|█████████████████████████████████████████████████| 89/89 [00:33<00:00,  2.67batch/s, ut_loss=1.52]\n"
     ]
    },
    {
     "name": "stdout",
     "output_type": "stream",
     "text": [
      "Testing\n"
     ]
    },
    {
     "name": "stderr",
     "output_type": "stream",
     "text": [
      "100%|████████████████████████████████████████████████████████████████████████████████| 59/59 [00:12<00:00,  4.55batch/s]\n"
     ]
    },
    {
     "name": "stdout",
     "output_type": "stream",
     "text": [
      "Accuracy for y=0, s=0: 0.8592745638200183 4356.0\n",
      "Accuracy for y=0, s=1: 0.7547115933752142 7004.0\n",
      "Accuracy for y=1, s=0: 0.822262118491921 557.0\n",
      "Accuracy for y=1, s=1: 0.8110085905186127 3143.0\n"
     ]
    },
    {
     "name": "stderr",
     "output_type": "stream",
     "text": [
      "epoch 9.000000 : 100%|█████████████████████████████████████████████████| 89/89 [00:34<00:00,  2.60batch/s, ut_loss=1.67]\n"
     ]
    },
    {
     "name": "stdout",
     "output_type": "stream",
     "text": [
      "Testing\n"
     ]
    },
    {
     "name": "stderr",
     "output_type": "stream",
     "text": [
      "100%|████████████████████████████████████████████████████████████████████████████████| 59/59 [00:13<00:00,  4.51batch/s]\n"
     ]
    },
    {
     "name": "stdout",
     "output_type": "stream",
     "text": [
      "Accuracy for y=0, s=0: 0.8636363636363636 4356.0\n",
      "Accuracy for y=0, s=1: 0.7649914334665905 7004.0\n",
      "Accuracy for y=1, s=0: 0.8204667863554758 557.0\n",
      "Accuracy for y=1, s=1: 0.8024180719058225 3143.0\n"
     ]
    },
    {
     "name": "stderr",
     "output_type": "stream",
     "text": [
      "epoch 10.000000 : 100%|████████████████████████████████████████████████| 89/89 [00:34<00:00,  2.59batch/s, ut_loss=1.62]\n"
     ]
    },
    {
     "name": "stdout",
     "output_type": "stream",
     "text": [
      "Testing\n"
     ]
    },
    {
     "name": "stderr",
     "output_type": "stream",
     "text": [
      "100%|████████████████████████████████████████████████████████████████████████████████| 59/59 [00:12<00:00,  4.55batch/s]\n"
     ]
    },
    {
     "name": "stdout",
     "output_type": "stream",
     "text": [
      "Accuracy for y=0, s=0: 0.8601928374655647 4356.0\n",
      "Accuracy for y=0, s=1: 0.7468589377498572 7004.0\n",
      "Accuracy for y=1, s=0: 0.8240574506283662 557.0\n",
      "Accuracy for y=1, s=1: 0.8221444479796373 3143.0\n"
     ]
    },
    {
     "name": "stderr",
     "output_type": "stream",
     "text": [
      "epoch 11.000000 : 100%|████████████████████████████████████████████████| 89/89 [00:32<00:00,  2.71batch/s, ut_loss=1.66]\n"
     ]
    },
    {
     "name": "stdout",
     "output_type": "stream",
     "text": [
      "Testing\n"
     ]
    },
    {
     "name": "stderr",
     "output_type": "stream",
     "text": [
      "100%|████████████████████████████████████████████████████████████████████████████████| 59/59 [00:13<00:00,  4.51batch/s]\n"
     ]
    },
    {
     "name": "stdout",
     "output_type": "stream",
     "text": [
      "Accuracy for y=0, s=0: 0.8461891643709826 4356.0\n",
      "Accuracy for y=0, s=1: 0.7357224443175329 7004.0\n",
      "Accuracy for y=1, s=0: 0.8348294434470377 557.0\n",
      "Accuracy for y=1, s=1: 0.8291441298122812 3143.0\n"
     ]
    },
    {
     "name": "stderr",
     "output_type": "stream",
     "text": [
      "epoch 12.000000 : 100%|████████████████████████████████████████████████| 89/89 [00:33<00:00,  2.68batch/s, ut_loss=0.96]\n"
     ]
    },
    {
     "name": "stdout",
     "output_type": "stream",
     "text": [
      "Testing\n"
     ]
    },
    {
     "name": "stderr",
     "output_type": "stream",
     "text": [
      "100%|████████████████████████████████████████████████████████████████████████████████| 59/59 [00:13<00:00,  4.51batch/s]\n"
     ]
    },
    {
     "name": "stdout",
     "output_type": "stream",
     "text": [
      "Accuracy for y=0, s=0: 0.8638659320477502 4356.0\n",
      "Accuracy for y=0, s=1: 0.7597087378640777 7004.0\n",
      "Accuracy for y=1, s=0: 0.8186714542190305 557.0\n",
      "Accuracy for y=1, s=1: 0.8081450843143494 3143.0\n"
     ]
    },
    {
     "name": "stderr",
     "output_type": "stream",
     "text": [
      "epoch 13.000000 : 100%|█████████████████████████████████████████████████| 89/89 [00:33<00:00,  2.66batch/s, ut_loss=2.4]\n"
     ]
    },
    {
     "name": "stdout",
     "output_type": "stream",
     "text": [
      "Testing\n"
     ]
    },
    {
     "name": "stderr",
     "output_type": "stream",
     "text": [
      "100%|████████████████████████████████████████████████████████████████████████████████| 59/59 [00:12<00:00,  4.87batch/s]\n"
     ]
    },
    {
     "name": "stdout",
     "output_type": "stream",
     "text": [
      "Accuracy for y=0, s=0: 0.860651974288338 4356.0\n",
      "Accuracy for y=0, s=1: 0.7442889777270132 7004.0\n",
      "Accuracy for y=1, s=0: 0.8276481149012568 557.0\n",
      "Accuracy for y=1, s=1: 0.8224626153356666 3143.0\n"
     ]
    },
    {
     "name": "stderr",
     "output_type": "stream",
     "text": [
      "epoch 14.000000 : 100%|████████████████████████████████████████████████| 89/89 [00:31<00:00,  2.86batch/s, ut_loss=1.33]\n"
     ]
    },
    {
     "name": "stdout",
     "output_type": "stream",
     "text": [
      "Testing\n"
     ]
    },
    {
     "name": "stderr",
     "output_type": "stream",
     "text": [
      "100%|████████████████████████████████████████████████████████████████████████████████| 59/59 [00:11<00:00,  5.05batch/s]\n"
     ]
    },
    {
     "name": "stdout",
     "output_type": "stream",
     "text": [
      "Accuracy for y=0, s=0: 0.8496326905417815 4356.0\n",
      "Accuracy for y=0, s=1: 0.7401484865790977 7004.0\n",
      "Accuracy for y=1, s=0: 0.8312387791741472 557.0\n",
      "Accuracy for y=1, s=1: 0.8265987909640471 3143.0\n"
     ]
    },
    {
     "name": "stderr",
     "output_type": "stream",
     "text": [
      "epoch 15.000000 : 100%|████████████████████████████████████████████████| 89/89 [00:34<00:00,  2.57batch/s, ut_loss=1.33]\n"
     ]
    },
    {
     "name": "stdout",
     "output_type": "stream",
     "text": [
      "Testing\n"
     ]
    },
    {
     "name": "stderr",
     "output_type": "stream",
     "text": [
      "100%|████████████████████████████████████████████████████████████████████████████████| 59/59 [00:12<00:00,  4.60batch/s]\n"
     ]
    },
    {
     "name": "stdout",
     "output_type": "stream",
     "text": [
      "Accuracy for y=0, s=0: 0.8360881542699724 4356.0\n",
      "Accuracy for y=0, s=1: 0.7275842375785265 7004.0\n",
      "Accuracy for y=1, s=0: 0.8438061041292639 557.0\n",
      "Accuracy for y=1, s=1: 0.837098313713013 3143.0\n"
     ]
    },
    {
     "name": "stderr",
     "output_type": "stream",
     "text": [
      "epoch 16.000000 : 100%|████████████████████████████████████████████████| 89/89 [00:30<00:00,  2.89batch/s, ut_loss=1.54]\n"
     ]
    },
    {
     "name": "stdout",
     "output_type": "stream",
     "text": [
      "Testing\n"
     ]
    },
    {
     "name": "stderr",
     "output_type": "stream",
     "text": [
      "100%|████████████████████████████████████████████████████████████████████████████████| 59/59 [00:12<00:00,  4.68batch/s]\n"
     ]
    },
    {
     "name": "stdout",
     "output_type": "stream",
     "text": [
      "Accuracy for y=0, s=0: 0.86455463728191 4356.0\n",
      "Accuracy for y=0, s=1: 0.7664191890348372 7004.0\n",
      "Accuracy for y=1, s=0: 0.822262118491921 557.0\n",
      "Accuracy for y=1, s=1: 0.7989182309895004 3143.0\n"
     ]
    },
    {
     "name": "stderr",
     "output_type": "stream",
     "text": [
      "epoch 17.000000 : 100%|████████████████████████████████████████████████| 89/89 [00:32<00:00,  2.74batch/s, ut_loss=1.31]\n"
     ]
    },
    {
     "name": "stdout",
     "output_type": "stream",
     "text": [
      "Testing\n"
     ]
    },
    {
     "name": "stderr",
     "output_type": "stream",
     "text": [
      "100%|████████████████████████████████████████████████████████████████████████████████| 59/59 [00:13<00:00,  4.47batch/s]\n"
     ]
    },
    {
     "name": "stdout",
     "output_type": "stream",
     "text": [
      "Accuracy for y=0, s=0: 0.8535353535353535 4356.0\n",
      "Accuracy for y=0, s=1: 0.7494288977727013 7004.0\n",
      "Accuracy for y=1, s=0: 0.8276481149012568 557.0\n",
      "Accuracy for y=1, s=1: 0.8208717785555202 3143.0\n"
     ]
    },
    {
     "name": "stderr",
     "output_type": "stream",
     "text": [
      "epoch 18.000000 : 100%|███████████████████████████████████████████████| 89/89 [00:34<00:00,  2.60batch/s, ut_loss=0.963]\n"
     ]
    },
    {
     "name": "stdout",
     "output_type": "stream",
     "text": [
      "Testing\n"
     ]
    },
    {
     "name": "stderr",
     "output_type": "stream",
     "text": [
      "100%|████████████████████████████████████████████████████████████████████████████████| 59/59 [00:12<00:00,  4.64batch/s]\n"
     ]
    },
    {
     "name": "stdout",
     "output_type": "stream",
     "text": [
      "Accuracy for y=0, s=0: 0.8512396694214877 4356.0\n",
      "Accuracy for y=0, s=1: 0.7541404911479155 7004.0\n",
      "Accuracy for y=1, s=0: 0.829443447037702 557.0\n",
      "Accuracy for y=1, s=1: 0.8164174355711104 3143.0\n"
     ]
    },
    {
     "name": "stderr",
     "output_type": "stream",
     "text": [
      "epoch 19.000000 : 100%|████████████████████████████████████████████████| 89/89 [00:33<00:00,  2.63batch/s, ut_loss=1.39]\n"
     ]
    },
    {
     "name": "stdout",
     "output_type": "stream",
     "text": [
      "Testing\n"
     ]
    },
    {
     "name": "stderr",
     "output_type": "stream",
     "text": [
      "100%|████████████████████████████████████████████████████████████████████████████████| 59/59 [00:12<00:00,  4.58batch/s]\n"
     ]
    },
    {
     "name": "stdout",
     "output_type": "stream",
     "text": [
      "Accuracy for y=0, s=0: 0.8450413223140496 4356.0\n",
      "Accuracy for y=0, s=1: 0.750428326670474 7004.0\n",
      "Accuracy for y=1, s=0: 0.8312387791741472 557.0\n",
      "Accuracy for y=1, s=1: 0.8180082723512567 3143.0\n"
     ]
    },
    {
     "name": "stderr",
     "output_type": "stream",
     "text": [
      "epoch 20.000000 : 100%|████████████████████████████████████████████████| 89/89 [00:32<00:00,  2.76batch/s, ut_loss=1.38]\n"
     ]
    },
    {
     "name": "stdout",
     "output_type": "stream",
     "text": [
      "Testing\n"
     ]
    },
    {
     "name": "stderr",
     "output_type": "stream",
     "text": [
      "100%|████████████████████████████████████████████████████████████████████████████████| 59/59 [00:12<00:00,  4.56batch/s]\n"
     ]
    },
    {
     "name": "stdout",
     "output_type": "stream",
     "text": [
      "Accuracy for y=0, s=0: 0.857208448117539 4356.0\n",
      "Accuracy for y=0, s=1: 0.768703597944032 7004.0\n",
      "Accuracy for y=1, s=0: 0.8150807899461401 557.0\n",
      "Accuracy for y=1, s=1: 0.798281896277442 3143.0\n"
     ]
    },
    {
     "name": "stderr",
     "output_type": "stream",
     "text": [
      "epoch 21.000000 : 100%|████████████████████████████████████████████████| 89/89 [00:34<00:00,  2.61batch/s, ut_loss=1.62]\n"
     ]
    },
    {
     "name": "stdout",
     "output_type": "stream",
     "text": [
      "Testing\n"
     ]
    },
    {
     "name": "stderr",
     "output_type": "stream",
     "text": [
      "100%|████████████████████████████████████████████████████████████████████████████████| 59/59 [00:13<00:00,  4.45batch/s]\n"
     ]
    },
    {
     "name": "stdout",
     "output_type": "stream",
     "text": [
      "Accuracy for y=0, s=0: 0.8668503213957759 4356.0\n",
      "Accuracy for y=0, s=1: 0.7634209023415192 7004.0\n",
      "Accuracy for y=1, s=0: 0.8186714542190305 557.0\n",
      "Accuracy for y=1, s=1: 0.8059179128221444 3143.0\n"
     ]
    },
    {
     "name": "stderr",
     "output_type": "stream",
     "text": [
      "epoch 22.000000 : 100%|████████████████████████████████████████████████| 89/89 [00:33<00:00,  2.64batch/s, ut_loss=1.67]\n"
     ]
    },
    {
     "name": "stdout",
     "output_type": "stream",
     "text": [
      "Testing\n"
     ]
    },
    {
     "name": "stderr",
     "output_type": "stream",
     "text": [
      "100%|████████████████████████████████████████████████████████████████████████████████| 59/59 [00:13<00:00,  4.45batch/s]\n"
     ]
    },
    {
     "name": "stdout",
     "output_type": "stream",
     "text": [
      "Accuracy for y=0, s=0: 0.8340220385674931 4356.0\n",
      "Accuracy for y=0, s=1: 0.7248715019988577 7004.0\n",
      "Accuracy for y=1, s=0: 0.8384201077199281 557.0\n",
      "Accuracy for y=1, s=1: 0.8453706649697741 3143.0\n"
     ]
    },
    {
     "name": "stderr",
     "output_type": "stream",
     "text": [
      "epoch 23.000000 : 100%|████████████████████████████████████████████████| 89/89 [00:33<00:00,  2.65batch/s, ut_loss=1.34]\n"
     ]
    },
    {
     "name": "stdout",
     "output_type": "stream",
     "text": [
      "Testing\n"
     ]
    },
    {
     "name": "stderr",
     "output_type": "stream",
     "text": [
      "100%|████████████████████████████████████████████████████████████████████████████████| 59/59 [00:12<00:00,  4.61batch/s]\n"
     ]
    },
    {
     "name": "stdout",
     "output_type": "stream",
     "text": [
      "Accuracy for y=0, s=0: 0.8539944903581267 4356.0\n",
      "Accuracy for y=0, s=1: 0.7659908623643632 7004.0\n",
      "Accuracy for y=1, s=0: 0.8240574506283662 557.0\n",
      "Accuracy for y=1, s=1: 0.8008272351256761 3143.0\n"
     ]
    },
    {
     "name": "stderr",
     "output_type": "stream",
     "text": [
      "epoch 24.000000 : 100%|█████████████████████████████████████████████████| 89/89 [00:30<00:00,  2.91batch/s, ut_loss=1.9]\n"
     ]
    },
    {
     "name": "stdout",
     "output_type": "stream",
     "text": [
      "Testing\n"
     ]
    },
    {
     "name": "stderr",
     "output_type": "stream",
     "text": [
      "100%|████████████████████████████████████████████████████████████████████████████████| 59/59 [00:12<00:00,  4.81batch/s]\n"
     ]
    },
    {
     "name": "stdout",
     "output_type": "stream",
     "text": [
      "Accuracy for y=0, s=0: 0.8349403122130394 4356.0\n",
      "Accuracy for y=0, s=1: 0.7340091376356368 7004.0\n",
      "Accuracy for y=1, s=0: 0.8384201077199281 557.0\n",
      "Accuracy for y=1, s=1: 0.8374164810690423 3143.0\n"
     ]
    },
    {
     "name": "stderr",
     "output_type": "stream",
     "text": [
      "epoch 25.000000 : 100%|████████████████████████████████████████████████| 89/89 [00:32<00:00,  2.71batch/s, ut_loss=1.17]\n"
     ]
    },
    {
     "name": "stdout",
     "output_type": "stream",
     "text": [
      "Testing\n"
     ]
    },
    {
     "name": "stderr",
     "output_type": "stream",
     "text": [
      "100%|████████████████████████████████████████████████████████████████████████████████| 59/59 [00:13<00:00,  4.43batch/s]\n"
     ]
    },
    {
     "name": "stdout",
     "output_type": "stream",
     "text": [
      "Accuracy for y=0, s=0: 0.8634067952249771 4356.0\n",
      "Accuracy for y=0, s=1: 0.7568532267275843 7004.0\n",
      "Accuracy for y=1, s=0: 0.822262118491921 557.0\n",
      "Accuracy for y=1, s=1: 0.8141902640789055 3143.0\n"
     ]
    },
    {
     "name": "stderr",
     "output_type": "stream",
     "text": [
      "epoch 26.000000 : 100%|████████████████████████████████████████████████| 89/89 [00:32<00:00,  2.74batch/s, ut_loss=1.71]\n"
     ]
    },
    {
     "name": "stdout",
     "output_type": "stream",
     "text": [
      "Testing\n"
     ]
    },
    {
     "name": "stderr",
     "output_type": "stream",
     "text": [
      "100%|████████████████████████████████████████████████████████████████████████████████| 59/59 [00:11<00:00,  4.92batch/s]\n"
     ]
    },
    {
     "name": "stdout",
     "output_type": "stream",
     "text": [
      "Accuracy for y=0, s=0: 0.8778696051423324 4356.0\n",
      "Accuracy for y=0, s=1: 0.7824100513992005 7004.0\n",
      "Accuracy for y=1, s=0: 0.8043087971274686 557.0\n",
      "Accuracy for y=1, s=1: 0.7836461979000955 3143.0\n"
     ]
    },
    {
     "name": "stderr",
     "output_type": "stream",
     "text": [
      "epoch 27.000000 : 100%|████████████████████████████████████████████████| 89/89 [00:32<00:00,  2.74batch/s, ut_loss=1.38]\n"
     ]
    },
    {
     "name": "stdout",
     "output_type": "stream",
     "text": [
      "Testing\n"
     ]
    },
    {
     "name": "stderr",
     "output_type": "stream",
     "text": [
      "100%|████████████████████████████████████████████████████████████████████████████████| 59/59 [00:12<00:00,  4.90batch/s]\n"
     ]
    },
    {
     "name": "stdout",
     "output_type": "stream",
     "text": [
      "Accuracy for y=0, s=0: 0.8686868686868687 4356.0\n",
      "Accuracy for y=0, s=1: 0.7764134780125642 7004.0\n",
      "Accuracy for y=1, s=0: 0.8168761220825853 557.0\n",
      "Accuracy for y=1, s=1: 0.791282214444798 3143.0\n"
     ]
    },
    {
     "name": "stderr",
     "output_type": "stream",
     "text": [
      "epoch 28.000000 : 100%|████████████████████████████████████████████████| 89/89 [00:34<00:00,  2.58batch/s, ut_loss=1.22]\n"
     ]
    },
    {
     "name": "stdout",
     "output_type": "stream",
     "text": [
      "Testing\n"
     ]
    },
    {
     "name": "stderr",
     "output_type": "stream",
     "text": [
      "100%|████████████████████████████████████████████████████████████████████████████████| 59/59 [00:12<00:00,  4.59batch/s]\n"
     ]
    },
    {
     "name": "stdout",
     "output_type": "stream",
     "text": [
      "Accuracy for y=0, s=0: 0.8549127640036731 4356.0\n",
      "Accuracy for y=0, s=1: 0.7378640776699029 7004.0\n",
      "Accuracy for y=1, s=0: 0.8240574506283662 557.0\n",
      "Accuracy for y=1, s=1: 0.8307349665924276 3143.0\n"
     ]
    },
    {
     "name": "stderr",
     "output_type": "stream",
     "text": [
      "epoch 29.000000 : 100%|████████████████████████████████████████████████| 89/89 [00:35<00:00,  2.54batch/s, ut_loss=1.48]\n"
     ]
    },
    {
     "name": "stdout",
     "output_type": "stream",
     "text": [
      "Testing\n"
     ]
    },
    {
     "name": "stderr",
     "output_type": "stream",
     "text": [
      "100%|████████████████████████████████████████████████████████████████████████████████| 59/59 [00:13<00:00,  4.45batch/s]\n"
     ]
    },
    {
     "name": "stdout",
     "output_type": "stream",
     "text": [
      "Accuracy for y=0, s=0: 0.8613406795224977 4356.0\n",
      "Accuracy for y=0, s=1: 0.7392918332381496 7004.0\n",
      "Accuracy for y=1, s=0: 0.8240574506283662 557.0\n",
      "Accuracy for y=1, s=1: 0.8320076360165447 3143.0\n"
     ]
    },
    {
     "name": "stderr",
     "output_type": "stream",
     "text": [
      "epoch 30.000000 : 100%|███████████████████████████████████████████████| 89/89 [00:34<00:00,  2.61batch/s, ut_loss=0.957]\n"
     ]
    },
    {
     "name": "stdout",
     "output_type": "stream",
     "text": [
      "Testing\n"
     ]
    },
    {
     "name": "stderr",
     "output_type": "stream",
     "text": [
      "100%|████████████████████████████████████████████████████████████████████████████████| 59/59 [00:13<00:00,  4.39batch/s]\n"
     ]
    },
    {
     "name": "stdout",
     "output_type": "stream",
     "text": [
      "Accuracy for y=0, s=0: 0.8537649219467401 4356.0\n",
      "Accuracy for y=0, s=1: 0.7624214734437464 7004.0\n",
      "Accuracy for y=1, s=0: 0.8240574506283662 557.0\n",
      "Accuracy for y=1, s=1: 0.8036907413299396 3143.0\n"
     ]
    },
    {
     "name": "stderr",
     "output_type": "stream",
     "text": [
      "epoch 31.000000 : 100%|████████████████████████████████████████████████| 89/89 [00:34<00:00,  2.58batch/s, ut_loss=1.51]\n"
     ]
    },
    {
     "name": "stdout",
     "output_type": "stream",
     "text": [
      "Testing\n"
     ]
    },
    {
     "name": "stderr",
     "output_type": "stream",
     "text": [
      "100%|████████████████████████████████████████████████████████████████████████████████| 59/59 [00:12<00:00,  4.64batch/s]\n"
     ]
    },
    {
     "name": "stdout",
     "output_type": "stream",
     "text": [
      "Accuracy for y=0, s=0: 0.8709825528007347 4356.0\n",
      "Accuracy for y=0, s=1: 0.7559965733866362 7004.0\n",
      "Accuracy for y=1, s=0: 0.8114901256732495 557.0\n",
      "Accuracy for y=1, s=1: 0.817053770283169 3143.0\n"
     ]
    },
    {
     "name": "stderr",
     "output_type": "stream",
     "text": [
      "epoch 32.000000 : 100%|████████████████████████████████████████████████| 89/89 [00:33<00:00,  2.69batch/s, ut_loss=1.22]\n"
     ]
    },
    {
     "name": "stdout",
     "output_type": "stream",
     "text": [
      "Testing\n"
     ]
    },
    {
     "name": "stderr",
     "output_type": "stream",
     "text": [
      "100%|████████████████████████████████████████████████████████████████████████████████| 59/59 [00:13<00:00,  4.48batch/s]\n"
     ]
    },
    {
     "name": "stdout",
     "output_type": "stream",
     "text": [
      "Accuracy for y=0, s=0: 0.8684573002754821 4356.0\n",
      "Accuracy for y=0, s=1: 0.768703597944032 7004.0\n",
      "Accuracy for y=1, s=0: 0.8150807899461401 557.0\n",
      "Accuracy for y=1, s=1: 0.7986000636334712 3143.0\n"
     ]
    },
    {
     "name": "stderr",
     "output_type": "stream",
     "text": [
      "epoch 33.000000 : 100%|████████████████████████████████████████████████| 89/89 [00:35<00:00,  2.54batch/s, ut_loss=1.42]\n"
     ]
    },
    {
     "name": "stdout",
     "output_type": "stream",
     "text": [
      "Testing\n"
     ]
    },
    {
     "name": "stderr",
     "output_type": "stream",
     "text": [
      "100%|████████████████████████████████████████████████████████████████████████████████| 59/59 [00:13<00:00,  4.37batch/s]\n"
     ]
    },
    {
     "name": "stdout",
     "output_type": "stream",
     "text": [
      "Accuracy for y=0, s=0: 0.858356290174472 4356.0\n",
      "Accuracy for y=0, s=1: 0.7659908623643632 7004.0\n",
      "Accuracy for y=1, s=0: 0.8204667863554758 557.0\n",
      "Accuracy for y=1, s=1: 0.8008272351256761 3143.0\n"
     ]
    },
    {
     "name": "stderr",
     "output_type": "stream",
     "text": [
      "epoch 34.000000 : 100%|████████████████████████████████████████████████| 89/89 [00:36<00:00,  2.43batch/s, ut_loss=1.53]\n"
     ]
    },
    {
     "name": "stdout",
     "output_type": "stream",
     "text": [
      "Testing\n"
     ]
    },
    {
     "name": "stderr",
     "output_type": "stream",
     "text": [
      "100%|████████████████████████████████████████████████████████████████████████████████| 59/59 [00:13<00:00,  4.41batch/s]\n"
     ]
    },
    {
     "name": "stdout",
     "output_type": "stream",
     "text": [
      "Accuracy for y=0, s=0: 0.8578971533516988 4356.0\n",
      "Accuracy for y=0, s=1: 0.7415762421473444 7004.0\n",
      "Accuracy for y=1, s=0: 0.822262118491921 557.0\n",
      "Accuracy for y=1, s=1: 0.8307349665924276 3143.0\n"
     ]
    },
    {
     "name": "stderr",
     "output_type": "stream",
     "text": [
      "epoch 35.000000 : 100%|████████████████████████████████████████████████| 89/89 [00:34<00:00,  2.60batch/s, ut_loss=1.66]\n"
     ]
    },
    {
     "name": "stdout",
     "output_type": "stream",
     "text": [
      "Testing\n"
     ]
    },
    {
     "name": "stderr",
     "output_type": "stream",
     "text": [
      "100%|████████████████████████████████████████████████████████████████████████████████| 59/59 [00:13<00:00,  4.39batch/s]\n"
     ]
    },
    {
     "name": "stdout",
     "output_type": "stream",
     "text": [
      "Accuracy for y=0, s=0: 0.8560606060606061 4356.0\n",
      "Accuracy for y=0, s=1: 0.7514277555682467 7004.0\n",
      "Accuracy for y=1, s=0: 0.8276481149012568 557.0\n",
      "Accuracy for y=1, s=1: 0.821826280623608 3143.0\n"
     ]
    },
    {
     "name": "stderr",
     "output_type": "stream",
     "text": [
      "epoch 36.000000 : 100%|████████████████████████████████████████████████| 89/89 [00:33<00:00,  2.69batch/s, ut_loss=1.58]\n"
     ]
    },
    {
     "name": "stdout",
     "output_type": "stream",
     "text": [
      "Testing\n"
     ]
    },
    {
     "name": "stderr",
     "output_type": "stream",
     "text": [
      "100%|████████████████████████████████████████████████████████████████████████████████| 59/59 [00:13<00:00,  4.46batch/s]\n"
     ]
    },
    {
     "name": "stdout",
     "output_type": "stream",
     "text": [
      "Accuracy for y=0, s=0: 0.8537649219467401 4356.0\n",
      "Accuracy for y=0, s=1: 0.752569960022844 7004.0\n",
      "Accuracy for y=1, s=0: 0.8276481149012568 557.0\n",
      "Accuracy for y=1, s=1: 0.818326439707286 3143.0\n"
     ]
    },
    {
     "name": "stderr",
     "output_type": "stream",
     "text": [
      "epoch 37.000000 : 100%|████████████████████████████████████████████████| 89/89 [00:35<00:00,  2.47batch/s, ut_loss=1.06]\n"
     ]
    },
    {
     "name": "stdout",
     "output_type": "stream",
     "text": [
      "Testing\n"
     ]
    },
    {
     "name": "stderr",
     "output_type": "stream",
     "text": [
      "100%|████████████████████████████████████████████████████████████████████████████████| 59/59 [00:13<00:00,  4.39batch/s]\n"
     ]
    },
    {
     "name": "stdout",
     "output_type": "stream",
     "text": [
      "Accuracy for y=0, s=0: 0.8576675849403123 4356.0\n",
      "Accuracy for y=0, s=1: 0.7494288977727013 7004.0\n",
      "Accuracy for y=1, s=0: 0.822262118491921 557.0\n",
      "Accuracy for y=1, s=1: 0.8189627744193446 3143.0\n"
     ]
    },
    {
     "name": "stderr",
     "output_type": "stream",
     "text": [
      "epoch 38.000000 : 100%|████████████████████████████████████████████████| 89/89 [00:33<00:00,  2.68batch/s, ut_loss=1.31]\n"
     ]
    },
    {
     "name": "stdout",
     "output_type": "stream",
     "text": [
      "Testing\n"
     ]
    },
    {
     "name": "stderr",
     "output_type": "stream",
     "text": [
      "100%|████████████████████████████████████████████████████████████████████████████████| 59/59 [00:13<00:00,  4.45batch/s]\n"
     ]
    },
    {
     "name": "stdout",
     "output_type": "stream",
     "text": [
      "Accuracy for y=0, s=0: 0.8560606060606061 4356.0\n",
      "Accuracy for y=0, s=1: 0.7607081667618504 7004.0\n",
      "Accuracy for y=1, s=0: 0.822262118491921 557.0\n",
      "Accuracy for y=1, s=1: 0.8078269169583201 3143.0\n"
     ]
    },
    {
     "name": "stderr",
     "output_type": "stream",
     "text": [
      "epoch 39.000000 : 100%|████████████████████████████████████████████████| 89/89 [00:35<00:00,  2.54batch/s, ut_loss=1.16]\n"
     ]
    },
    {
     "name": "stdout",
     "output_type": "stream",
     "text": [
      "Testing\n"
     ]
    },
    {
     "name": "stderr",
     "output_type": "stream",
     "text": [
      "100%|████████████████████████████████████████████████████████████████████████████████| 59/59 [00:13<00:00,  4.41batch/s]\n"
     ]
    },
    {
     "name": "stdout",
     "output_type": "stream",
     "text": [
      "Accuracy for y=0, s=0: 0.8461891643709826 4356.0\n",
      "Accuracy for y=0, s=1: 0.7488577955454027 7004.0\n",
      "Accuracy for y=1, s=0: 0.8366247755834829 557.0\n",
      "Accuracy for y=1, s=1: 0.8195991091314031 3143.0\n"
     ]
    },
    {
     "name": "stderr",
     "output_type": "stream",
     "text": [
      "epoch 40.000000 : 100%|████████████████████████████████████████████████| 89/89 [00:35<00:00,  2.51batch/s, ut_loss=1.86]\n"
     ]
    },
    {
     "name": "stdout",
     "output_type": "stream",
     "text": [
      "Testing\n"
     ]
    },
    {
     "name": "stderr",
     "output_type": "stream",
     "text": [
      "100%|████████████████████████████████████████████████████████████████████████████████| 59/59 [00:13<00:00,  4.46batch/s]\n"
     ]
    },
    {
     "name": "stdout",
     "output_type": "stream",
     "text": [
      "Accuracy for y=0, s=0: 0.8546831955922864 4356.0\n",
      "Accuracy for y=0, s=1: 0.7388635065676756 7004.0\n",
      "Accuracy for y=1, s=0: 0.829443447037702 557.0\n",
      "Accuracy for y=1, s=1: 0.8332803054406618 3143.0\n"
     ]
    },
    {
     "name": "stderr",
     "output_type": "stream",
     "text": [
      "epoch 41.000000 : 100%|█████████████████████████████████████████████████| 89/89 [00:34<00:00,  2.55batch/s, ut_loss=1.3]\n"
     ]
    },
    {
     "name": "stdout",
     "output_type": "stream",
     "text": [
      "Testing\n"
     ]
    },
    {
     "name": "stderr",
     "output_type": "stream",
     "text": [
      "100%|████████████████████████████████████████████████████████████████████████████████| 59/59 [00:13<00:00,  4.44batch/s]\n"
     ]
    },
    {
     "name": "stdout",
     "output_type": "stream",
     "text": [
      "Accuracy for y=0, s=0: 0.8693755739210285 4356.0\n",
      "Accuracy for y=0, s=1: 0.7671330668189605 7004.0\n",
      "Accuracy for y=1, s=0: 0.8132854578096947 557.0\n",
      "Accuracy for y=1, s=1: 0.7970092268533249 3143.0\n"
     ]
    },
    {
     "name": "stderr",
     "output_type": "stream",
     "text": [
      "epoch 42.000000 : 100%|████████████████████████████████████████████████| 89/89 [00:33<00:00,  2.67batch/s, ut_loss=1.84]\n"
     ]
    },
    {
     "name": "stdout",
     "output_type": "stream",
     "text": [
      "Testing\n"
     ]
    },
    {
     "name": "stderr",
     "output_type": "stream",
     "text": [
      "100%|████████████████████████████████████████████████████████████████████████████████| 59/59 [00:12<00:00,  4.56batch/s]\n"
     ]
    },
    {
     "name": "stdout",
     "output_type": "stream",
     "text": [
      "Accuracy for y=0, s=0: 0.8558310376492194 4356.0\n",
      "Accuracy for y=0, s=1: 0.7498572244431754 7004.0\n",
      "Accuracy for y=1, s=0: 0.8312387791741472 557.0\n",
      "Accuracy for y=1, s=1: 0.8141902640789055 3143.0\n"
     ]
    },
    {
     "name": "stderr",
     "output_type": "stream",
     "text": [
      "epoch 43.000000 : 100%|████████████████████████████████████████████████| 89/89 [00:33<00:00,  2.67batch/s, ut_loss=1.14]\n"
     ]
    },
    {
     "name": "stdout",
     "output_type": "stream",
     "text": [
      "Testing\n"
     ]
    },
    {
     "name": "stderr",
     "output_type": "stream",
     "text": [
      "100%|████████████████████████████████████████████████████████████████████████████████| 59/59 [00:12<00:00,  4.81batch/s]\n"
     ]
    },
    {
     "name": "stdout",
     "output_type": "stream",
     "text": [
      "Accuracy for y=0, s=0: 0.8581267217630854 4356.0\n",
      "Accuracy for y=0, s=1: 0.74785836664763 7004.0\n",
      "Accuracy for y=1, s=0: 0.8240574506283662 557.0\n",
      "Accuracy for y=1, s=1: 0.8237352847597836 3143.0\n"
     ]
    },
    {
     "name": "stderr",
     "output_type": "stream",
     "text": [
      "epoch 44.000000 : 100%|████████████████████████████████████████████████| 89/89 [00:34<00:00,  2.60batch/s, ut_loss=1.21]\n"
     ]
    },
    {
     "name": "stdout",
     "output_type": "stream",
     "text": [
      "Testing\n"
     ]
    },
    {
     "name": "stderr",
     "output_type": "stream",
     "text": [
      "100%|████████████████████████████████████████████████████████████████████████████████| 59/59 [00:13<00:00,  4.52batch/s]\n"
     ]
    },
    {
     "name": "stdout",
     "output_type": "stream",
     "text": [
      "Accuracy for y=0, s=0: 0.8484848484848485 4356.0\n",
      "Accuracy for y=0, s=1: 0.731296402055968 7004.0\n",
      "Accuracy for y=1, s=0: 0.8348294434470377 557.0\n",
      "Accuracy for y=1, s=1: 0.8377346484250716 3143.0\n"
     ]
    },
    {
     "name": "stderr",
     "output_type": "stream",
     "text": [
      "epoch 45.000000 : 100%|████████████████████████████████████████████████| 89/89 [00:34<00:00,  2.56batch/s, ut_loss=1.34]\n"
     ]
    },
    {
     "name": "stdout",
     "output_type": "stream",
     "text": [
      "Testing\n"
     ]
    },
    {
     "name": "stderr",
     "output_type": "stream",
     "text": [
      "100%|████████████████████████████████████████████████████████████████████████████████| 59/59 [00:13<00:00,  4.41batch/s]\n"
     ]
    },
    {
     "name": "stdout",
     "output_type": "stream",
     "text": [
      "Accuracy for y=0, s=0: 0.8496326905417815 4356.0\n",
      "Accuracy for y=0, s=1: 0.7542832667047401 7004.0\n",
      "Accuracy for y=1, s=0: 0.8330341113105925 557.0\n",
      "Accuracy for y=1, s=1: 0.8138720967228762 3143.0\n"
     ]
    },
    {
     "name": "stderr",
     "output_type": "stream",
     "text": [
      "epoch 46.000000 : 100%|████████████████████████████████████████████████| 89/89 [00:34<00:00,  2.59batch/s, ut_loss=2.01]\n"
     ]
    },
    {
     "name": "stdout",
     "output_type": "stream",
     "text": [
      "Testing\n"
     ]
    },
    {
     "name": "stderr",
     "output_type": "stream",
     "text": [
      "100%|████████████████████████████████████████████████████████████████████████████████| 59/59 [00:13<00:00,  4.52batch/s]\n"
     ]
    },
    {
     "name": "stdout",
     "output_type": "stream",
     "text": [
      "Accuracy for y=0, s=0: 0.8599632690541782 4356.0\n",
      "Accuracy for y=0, s=1: 0.7654197601370646 7004.0\n",
      "Accuracy for y=1, s=0: 0.8240574506283662 557.0\n",
      "Accuracy for y=1, s=1: 0.7992363983455297 3143.0\n"
     ]
    },
    {
     "name": "stderr",
     "output_type": "stream",
     "text": [
      "epoch 47.000000 : 100%|████████████████████████████████████████████████| 89/89 [00:35<00:00,  2.52batch/s, ut_loss=1.32]\n"
     ]
    },
    {
     "name": "stdout",
     "output_type": "stream",
     "text": [
      "Testing\n"
     ]
    },
    {
     "name": "stderr",
     "output_type": "stream",
     "text": [
      "100%|████████████████████████████████████████████████████████████████████████████████| 59/59 [00:13<00:00,  4.40batch/s]\n"
     ]
    },
    {
     "name": "stdout",
     "output_type": "stream",
     "text": [
      "Accuracy for y=0, s=0: 0.8760330578512396 4356.0\n",
      "Accuracy for y=0, s=1: 0.7856938892061679 7004.0\n",
      "Accuracy for y=1, s=0: 0.8078994614003591 557.0\n",
      "Accuracy for y=1, s=1: 0.7791918549156857 3143.0\n"
     ]
    },
    {
     "name": "stderr",
     "output_type": "stream",
     "text": [
      "epoch 48.000000 : 100%|█████████████████████████████████████████████████| 89/89 [00:34<00:00,  2.55batch/s, ut_loss=1.4]\n"
     ]
    },
    {
     "name": "stdout",
     "output_type": "stream",
     "text": [
      "Testing\n"
     ]
    },
    {
     "name": "stderr",
     "output_type": "stream",
     "text": [
      "100%|████████████████████████████████████████████████████████████████████████████████| 59/59 [00:13<00:00,  4.54batch/s]\n"
     ]
    },
    {
     "name": "stdout",
     "output_type": "stream",
     "text": [
      "Accuracy for y=0, s=0: 0.8523875114784206 4356.0\n",
      "Accuracy for y=0, s=1: 0.7245859508852085 7004.0\n",
      "Accuracy for y=1, s=0: 0.8330341113105925 557.0\n",
      "Accuracy for y=1, s=1: 0.8479160038180082 3143.0\n"
     ]
    },
    {
     "name": "stderr",
     "output_type": "stream",
     "text": [
      "epoch 49.000000 : 100%|████████████████████████████████████████████████| 89/89 [00:33<00:00,  2.66batch/s, ut_loss=1.36]\n"
     ]
    },
    {
     "name": "stdout",
     "output_type": "stream",
     "text": [
      "Testing\n"
     ]
    },
    {
     "name": "stderr",
     "output_type": "stream",
     "text": [
      "100%|████████████████████████████████████████████████████████████████████████████████| 59/59 [00:13<00:00,  4.45batch/s]\n"
     ]
    },
    {
     "name": "stdout",
     "output_type": "stream",
     "text": [
      "Accuracy for y=0, s=0: 0.8471074380165289 4356.0\n",
      "Accuracy for y=0, s=1: 0.7307252998286693 7004.0\n",
      "Accuracy for y=1, s=0: 0.8366247755834829 557.0\n",
      "Accuracy for y=1, s=1: 0.8409163219853643 3143.0\n"
     ]
    },
    {
     "name": "stderr",
     "output_type": "stream",
     "text": [
      "epoch 50.000000 : 100%|████████████████████████████████████████████████| 89/89 [00:34<00:00,  2.56batch/s, ut_loss=1.41]\n"
     ]
    },
    {
     "name": "stdout",
     "output_type": "stream",
     "text": [
      "Testing\n"
     ]
    },
    {
     "name": "stderr",
     "output_type": "stream",
     "text": [
      "100%|████████████████████████████████████████████████████████████████████████████████| 59/59 [00:13<00:00,  4.48batch/s]\n"
     ]
    },
    {
     "name": "stdout",
     "output_type": "stream",
     "text": [
      "Accuracy for y=0, s=0: 0.8411386593204775 4356.0\n",
      "Accuracy for y=0, s=1: 0.7402912621359223 7004.0\n",
      "Accuracy for y=1, s=0: 0.8402154398563735 557.0\n",
      "Accuracy for y=1, s=1: 0.8265987909640471 3143.0\n"
     ]
    },
    {
     "name": "stderr",
     "output_type": "stream",
     "text": [
      "epoch 51.000000 : 100%|████████████████████████████████████████████████| 89/89 [00:34<00:00,  2.59batch/s, ut_loss=1.44]\n"
     ]
    },
    {
     "name": "stdout",
     "output_type": "stream",
     "text": [
      "Testing\n"
     ]
    },
    {
     "name": "stderr",
     "output_type": "stream",
     "text": [
      "100%|████████████████████████████████████████████████████████████████████████████████| 59/59 [00:13<00:00,  4.45batch/s]\n"
     ]
    },
    {
     "name": "stdout",
     "output_type": "stream",
     "text": [
      "Accuracy for y=0, s=0: 0.8666207529843893 4356.0\n",
      "Accuracy for y=0, s=1: 0.770416904625928 7004.0\n",
      "Accuracy for y=1, s=0: 0.8168761220825853 557.0\n",
      "Accuracy for y=1, s=1: 0.7976455615653834 3143.0\n"
     ]
    },
    {
     "name": "stderr",
     "output_type": "stream",
     "text": [
      "epoch 52.000000 : 100%|████████████████████████████████████████████████| 89/89 [00:33<00:00,  2.66batch/s, ut_loss=1.35]\n"
     ]
    },
    {
     "name": "stdout",
     "output_type": "stream",
     "text": [
      "Testing\n"
     ]
    },
    {
     "name": "stderr",
     "output_type": "stream",
     "text": [
      "100%|████████████████████████████████████████████████████████████████████████████████| 59/59 [00:13<00:00,  4.52batch/s]\n"
     ]
    },
    {
     "name": "stdout",
     "output_type": "stream",
     "text": [
      "Accuracy for y=0, s=0: 0.8471074380165289 4356.0\n",
      "Accuracy for y=0, s=1: 0.7462878355225585 7004.0\n",
      "Accuracy for y=1, s=0: 0.8384201077199281 557.0\n",
      "Accuracy for y=1, s=1: 0.8176901049952275 3143.0\n"
     ]
    },
    {
     "name": "stderr",
     "output_type": "stream",
     "text": [
      "epoch 53.000000 : 100%|████████████████████████████████████████████████| 89/89 [00:33<00:00,  2.69batch/s, ut_loss=1.37]\n"
     ]
    },
    {
     "name": "stdout",
     "output_type": "stream",
     "text": [
      "Testing\n"
     ]
    },
    {
     "name": "stderr",
     "output_type": "stream",
     "text": [
      "100%|████████████████████████████████████████████████████████████████████████████████| 59/59 [00:13<00:00,  4.51batch/s]\n"
     ]
    },
    {
     "name": "stdout",
     "output_type": "stream",
     "text": [
      "Accuracy for y=0, s=0: 0.8443526170798898 4356.0\n",
      "Accuracy for y=0, s=1: 0.7370074243289548 7004.0\n",
      "Accuracy for y=1, s=0: 0.8402154398563735 557.0\n",
      "Accuracy for y=1, s=1: 0.8332803054406618 3143.0\n"
     ]
    },
    {
     "name": "stderr",
     "output_type": "stream",
     "text": [
      "epoch 54.000000 : 100%|████████████████████████████████████████████████| 89/89 [00:32<00:00,  2.75batch/s, ut_loss=1.59]\n"
     ]
    },
    {
     "name": "stdout",
     "output_type": "stream",
     "text": [
      "Testing\n"
     ]
    },
    {
     "name": "stderr",
     "output_type": "stream",
     "text": [
      "100%|████████████████████████████████████████████████████████████████████████████████| 59/59 [00:13<00:00,  4.51batch/s]\n"
     ]
    },
    {
     "name": "stdout",
     "output_type": "stream",
     "text": [
      "Accuracy for y=0, s=0: 0.8597337006427915 4356.0\n",
      "Accuracy for y=0, s=1: 0.7501427755568246 7004.0\n",
      "Accuracy for y=1, s=0: 0.8204667863554758 557.0\n",
      "Accuracy for y=1, s=1: 0.8224626153356666 3143.0\n"
     ]
    },
    {
     "name": "stderr",
     "output_type": "stream",
     "text": [
      "epoch 55.000000 : 100%|████████████████████████████████████████████████| 89/89 [00:33<00:00,  2.66batch/s, ut_loss=1.52]\n"
     ]
    },
    {
     "name": "stdout",
     "output_type": "stream",
     "text": [
      "Testing\n"
     ]
    },
    {
     "name": "stderr",
     "output_type": "stream",
     "text": [
      "100%|████████████████████████████████████████████████████████████████████████████████| 59/59 [00:13<00:00,  4.52batch/s]\n"
     ]
    },
    {
     "name": "stdout",
     "output_type": "stream",
     "text": [
      "Accuracy for y=0, s=0: 0.8432047750229569 4356.0\n",
      "Accuracy for y=0, s=1: 0.7181610508280982 7004.0\n",
      "Accuracy for y=1, s=0: 0.8348294434470377 557.0\n",
      "Accuracy for y=1, s=1: 0.8523703468024181 3143.0\n"
     ]
    },
    {
     "name": "stderr",
     "output_type": "stream",
     "text": [
      "epoch 56.000000 : 100%|████████████████████████████████████████████████| 89/89 [00:33<00:00,  2.65batch/s, ut_loss=1.65]\n"
     ]
    },
    {
     "name": "stdout",
     "output_type": "stream",
     "text": [
      "Testing\n"
     ]
    },
    {
     "name": "stderr",
     "output_type": "stream",
     "text": [
      "100%|████████████████████████████████████████████████████████████████████████████████| 59/59 [00:13<00:00,  4.52batch/s]\n"
     ]
    },
    {
     "name": "stdout",
     "output_type": "stream",
     "text": [
      "Accuracy for y=0, s=0: 0.839761248852158 4356.0\n",
      "Accuracy for y=0, s=1: 0.7480011422044546 7004.0\n",
      "Accuracy for y=1, s=0: 0.8438061041292639 557.0\n",
      "Accuracy for y=1, s=1: 0.8192809417753738 3143.0\n"
     ]
    },
    {
     "name": "stderr",
     "output_type": "stream",
     "text": [
      "epoch 57.000000 : 100%|████████████████████████████████████████████████| 89/89 [00:32<00:00,  2.73batch/s, ut_loss=1.41]\n"
     ]
    },
    {
     "name": "stdout",
     "output_type": "stream",
     "text": [
      "Testing\n"
     ]
    },
    {
     "name": "stderr",
     "output_type": "stream",
     "text": [
      "100%|████████████████████████████████████████████████████████████████████████████████| 59/59 [00:13<00:00,  4.51batch/s]\n"
     ]
    },
    {
     "name": "stdout",
     "output_type": "stream",
     "text": [
      "Accuracy for y=0, s=0: 0.8735078053259872 4356.0\n",
      "Accuracy for y=0, s=1: 0.7464306110793832 7004.0\n",
      "Accuracy for y=1, s=0: 0.8025134649910234 557.0\n",
      "Accuracy for y=1, s=1: 0.8240534521158129 3143.0\n"
     ]
    },
    {
     "name": "stderr",
     "output_type": "stream",
     "text": [
      "epoch 58.000000 : 100%|████████████████████████████████████████████████| 89/89 [00:33<00:00,  2.63batch/s, ut_loss=1.12]\n"
     ]
    },
    {
     "name": "stdout",
     "output_type": "stream",
     "text": [
      "Testing\n"
     ]
    },
    {
     "name": "stderr",
     "output_type": "stream",
     "text": [
      "100%|████████████████████████████████████████████████████████████████████████████████| 59/59 [00:13<00:00,  4.47batch/s]\n"
     ]
    },
    {
     "name": "stdout",
     "output_type": "stream",
     "text": [
      "Accuracy for y=0, s=0: 0.8503213957759412 4356.0\n",
      "Accuracy for y=0, s=1: 0.7445745288406624 7004.0\n",
      "Accuracy for y=1, s=0: 0.8330341113105925 557.0\n",
      "Accuracy for y=1, s=1: 0.8265987909640471 3143.0\n"
     ]
    },
    {
     "name": "stderr",
     "output_type": "stream",
     "text": [
      "epoch 59.000000 : 100%|█████████████████████████████████████████████████| 89/89 [00:32<00:00,  2.75batch/s, ut_loss=2.1]\n"
     ]
    },
    {
     "name": "stdout",
     "output_type": "stream",
     "text": [
      "Testing\n"
     ]
    },
    {
     "name": "stderr",
     "output_type": "stream",
     "text": [
      "100%|████████████████████████████████████████████████████████████████████████████████| 59/59 [00:12<00:00,  4.56batch/s]\n"
     ]
    },
    {
     "name": "stdout",
     "output_type": "stream",
     "text": [
      "Accuracy for y=0, s=0: 0.8668503213957759 4356.0\n",
      "Accuracy for y=0, s=1: 0.7798400913763563 7004.0\n",
      "Accuracy for y=1, s=0: 0.8150807899461401 557.0\n",
      "Accuracy for y=1, s=1: 0.7861915367483296 3143.0\n"
     ]
    },
    {
     "name": "stderr",
     "output_type": "stream",
     "text": [
      "epoch 60.000000 : 100%|█████████████████████████████████████████████████| 89/89 [00:33<00:00,  2.64batch/s, ut_loss=1.6]\n"
     ]
    },
    {
     "name": "stdout",
     "output_type": "stream",
     "text": [
      "Testing\n"
     ]
    },
    {
     "name": "stderr",
     "output_type": "stream",
     "text": [
      "100%|████████████████████████████████████████████████████████████████████████████████| 59/59 [00:13<00:00,  4.53batch/s]\n"
     ]
    },
    {
     "name": "stdout",
     "output_type": "stream",
     "text": [
      "Accuracy for y=0, s=0: 0.8347107438016529 4356.0\n",
      "Accuracy for y=0, s=1: 0.7175899486007995 7004.0\n",
      "Accuracy for y=1, s=0: 0.8509874326750448 557.0\n",
      "Accuracy for y=1, s=1: 0.8466433343938912 3143.0\n"
     ]
    },
    {
     "name": "stderr",
     "output_type": "stream",
     "text": [
      "epoch 61.000000 : 100%|████████████████████████████████████████████████| 89/89 [00:33<00:00,  2.65batch/s, ut_loss=1.79]\n"
     ]
    },
    {
     "name": "stdout",
     "output_type": "stream",
     "text": [
      "Testing\n"
     ]
    },
    {
     "name": "stderr",
     "output_type": "stream",
     "text": [
      "100%|████████████████████████████████████████████████████████████████████████████████| 59/59 [00:12<00:00,  4.55batch/s]\n"
     ]
    },
    {
     "name": "stdout",
     "output_type": "stream",
     "text": [
      "Accuracy for y=0, s=0: 0.8282828282828283 4356.0\n",
      "Accuracy for y=0, s=1: 0.7185893774985722 7004.0\n",
      "Accuracy for y=1, s=0: 0.8491921005385996 557.0\n",
      "Accuracy for y=1, s=1: 0.8479160038180082 3143.0\n"
     ]
    },
    {
     "name": "stderr",
     "output_type": "stream",
     "text": [
      "epoch 62.000000 : 100%|████████████████████████████████████████████████| 89/89 [00:32<00:00,  2.72batch/s, ut_loss=1.62]\n"
     ]
    },
    {
     "name": "stdout",
     "output_type": "stream",
     "text": [
      "Testing\n"
     ]
    },
    {
     "name": "stderr",
     "output_type": "stream",
     "text": [
      "100%|████████████████████████████████████████████████████████████████████████████████| 59/59 [00:12<00:00,  4.54batch/s]\n"
     ]
    },
    {
     "name": "stdout",
     "output_type": "stream",
     "text": [
      "Accuracy for y=0, s=0: 0.857208448117539 4356.0\n",
      "Accuracy for y=0, s=1: 0.740434037692747 7004.0\n",
      "Accuracy for y=1, s=0: 0.8276481149012568 557.0\n",
      "Accuracy for y=1, s=1: 0.8294622971683105 3143.0\n"
     ]
    },
    {
     "name": "stderr",
     "output_type": "stream",
     "text": [
      "epoch 63.000000 : 100%|████████████████████████████████████████████████| 89/89 [00:32<00:00,  2.73batch/s, ut_loss=1.75]\n"
     ]
    },
    {
     "name": "stdout",
     "output_type": "stream",
     "text": [
      "Testing\n"
     ]
    },
    {
     "name": "stderr",
     "output_type": "stream",
     "text": [
      "100%|████████████████████████████████████████████████████████████████████████████████| 59/59 [00:13<00:00,  4.49batch/s]\n"
     ]
    },
    {
     "name": "stdout",
     "output_type": "stream",
     "text": [
      "Accuracy for y=0, s=0: 0.8622589531680441 4356.0\n",
      "Accuracy for y=0, s=1: 0.7258709308966305 7004.0\n",
      "Accuracy for y=1, s=0: 0.8186714542190305 557.0\n",
      "Accuracy for y=1, s=1: 0.8447343302577156 3143.0\n"
     ]
    },
    {
     "name": "stderr",
     "output_type": "stream",
     "text": [
      "epoch 64.000000 : 100%|████████████████████████████████████████████████| 89/89 [00:33<00:00,  2.68batch/s, ut_loss=1.46]\n"
     ]
    },
    {
     "name": "stdout",
     "output_type": "stream",
     "text": [
      "Testing\n"
     ]
    },
    {
     "name": "stderr",
     "output_type": "stream",
     "text": [
      "100%|████████████████████████████████████████████████████████████████████████████████| 59/59 [00:13<00:00,  4.52batch/s]\n"
     ]
    },
    {
     "name": "stdout",
     "output_type": "stream",
     "text": [
      "Accuracy for y=0, s=0: 0.8737373737373737 4356.0\n",
      "Accuracy for y=0, s=1: 0.7798400913763563 7004.0\n",
      "Accuracy for y=1, s=0: 0.8061041292639138 557.0\n",
      "Accuracy for y=1, s=1: 0.784282532612154 3143.0\n"
     ]
    },
    {
     "name": "stderr",
     "output_type": "stream",
     "text": [
      "epoch 65.000000 : 100%|████████████████████████████████████████████████| 89/89 [00:33<00:00,  2.65batch/s, ut_loss=1.99]\n"
     ]
    },
    {
     "name": "stdout",
     "output_type": "stream",
     "text": [
      "Testing\n"
     ]
    },
    {
     "name": "stderr",
     "output_type": "stream",
     "text": [
      "100%|████████████████████████████████████████████████████████████████████████████████| 59/59 [00:13<00:00,  4.49batch/s]\n"
     ]
    },
    {
     "name": "stdout",
     "output_type": "stream",
     "text": [
      "Accuracy for y=0, s=0: 0.8567493112947658 4356.0\n",
      "Accuracy for y=0, s=1: 0.7485722444317533 7004.0\n",
      "Accuracy for y=1, s=0: 0.822262118491921 557.0\n",
      "Accuracy for y=1, s=1: 0.8167356029271396 3143.0\n"
     ]
    },
    {
     "name": "stderr",
     "output_type": "stream",
     "text": [
      "epoch 66.000000 : 100%|████████████████████████████████████████████████| 89/89 [00:34<00:00,  2.60batch/s, ut_loss=1.37]\n"
     ]
    },
    {
     "name": "stdout",
     "output_type": "stream",
     "text": [
      "Testing\n"
     ]
    },
    {
     "name": "stderr",
     "output_type": "stream",
     "text": [
      "100%|████████████████████████████████████████████████████████████████████████████████| 59/59 [00:13<00:00,  4.48batch/s]\n"
     ]
    },
    {
     "name": "stdout",
     "output_type": "stream",
     "text": [
      "Accuracy for y=0, s=0: 0.8590449954086318 4356.0\n",
      "Accuracy for y=0, s=1: 0.7552826956025128 7004.0\n",
      "Accuracy for y=1, s=0: 0.8240574506283662 557.0\n",
      "Accuracy for y=1, s=1: 0.8167356029271396 3143.0\n"
     ]
    },
    {
     "name": "stderr",
     "output_type": "stream",
     "text": [
      "epoch 67.000000 : 100%|████████████████████████████████████████████████| 89/89 [00:33<00:00,  2.63batch/s, ut_loss=1.24]\n"
     ]
    },
    {
     "name": "stdout",
     "output_type": "stream",
     "text": [
      "Testing\n"
     ]
    },
    {
     "name": "stderr",
     "output_type": "stream",
     "text": [
      "100%|████████████████████████████████████████████████████████████████████████████████| 59/59 [00:13<00:00,  4.40batch/s]\n"
     ]
    },
    {
     "name": "stdout",
     "output_type": "stream",
     "text": [
      "Accuracy for y=0, s=0: 0.8546831955922864 4356.0\n",
      "Accuracy for y=0, s=1: 0.7374357509994289 7004.0\n",
      "Accuracy for y=1, s=0: 0.829443447037702 557.0\n",
      "Accuracy for y=1, s=1: 0.8374164810690423 3143.0\n"
     ]
    },
    {
     "name": "stderr",
     "output_type": "stream",
     "text": [
      "epoch 68.000000 : 100%|████████████████████████████████████████████████| 89/89 [00:33<00:00,  2.63batch/s, ut_loss=1.65]\n"
     ]
    },
    {
     "name": "stdout",
     "output_type": "stream",
     "text": [
      "Testing\n"
     ]
    },
    {
     "name": "stderr",
     "output_type": "stream",
     "text": [
      "100%|████████████████████████████████████████████████████████████████████████████████| 59/59 [00:13<00:00,  4.44batch/s]\n"
     ]
    },
    {
     "name": "stdout",
     "output_type": "stream",
     "text": [
      "Accuracy for y=0, s=0: 0.8746556473829201 4356.0\n",
      "Accuracy for y=0, s=1: 0.7647058823529411 7004.0\n",
      "Accuracy for y=1, s=0: 0.8061041292639138 557.0\n",
      "Accuracy for y=1, s=1: 0.8014635698377347 3143.0\n"
     ]
    },
    {
     "name": "stderr",
     "output_type": "stream",
     "text": [
      "epoch 69.000000 : 100%|████████████████████████████████████████████████| 89/89 [00:32<00:00,  2.70batch/s, ut_loss=1.23]\n"
     ]
    },
    {
     "name": "stdout",
     "output_type": "stream",
     "text": [
      "Testing\n"
     ]
    },
    {
     "name": "stderr",
     "output_type": "stream",
     "text": [
      "100%|████████████████████████████████████████████████████████████████████████████████| 59/59 [00:13<00:00,  4.48batch/s]\n"
     ]
    },
    {
     "name": "stdout",
     "output_type": "stream",
     "text": [
      "Accuracy for y=0, s=0: 0.8500918273645547 4356.0\n",
      "Accuracy for y=0, s=1: 0.75214163335237 7004.0\n",
      "Accuracy for y=1, s=0: 0.8348294434470377 557.0\n",
      "Accuracy for y=1, s=1: 0.8173719376391982 3143.0\n"
     ]
    },
    {
     "name": "stderr",
     "output_type": "stream",
     "text": [
      "epoch 70.000000 : 100%|████████████████████████████████████████████████| 89/89 [00:33<00:00,  2.66batch/s, ut_loss=1.44]\n"
     ]
    },
    {
     "name": "stdout",
     "output_type": "stream",
     "text": [
      "Testing\n"
     ]
    },
    {
     "name": "stderr",
     "output_type": "stream",
     "text": [
      "100%|████████████████████████████████████████████████████████████████████████████████| 59/59 [00:13<00:00,  4.43batch/s]\n"
     ]
    },
    {
     "name": "stdout",
     "output_type": "stream",
     "text": [
      "Accuracy for y=0, s=0: 0.8686868686868687 4356.0\n",
      "Accuracy for y=0, s=1: 0.7601370645345517 7004.0\n",
      "Accuracy for y=1, s=0: 0.8132854578096947 557.0\n",
      "Accuracy for y=1, s=1: 0.8075087496022908 3143.0\n"
     ]
    },
    {
     "name": "stderr",
     "output_type": "stream",
     "text": [
      "epoch 71.000000 : 100%|████████████████████████████████████████████████| 89/89 [00:34<00:00,  2.60batch/s, ut_loss=1.61]\n"
     ]
    },
    {
     "name": "stdout",
     "output_type": "stream",
     "text": [
      "Testing\n"
     ]
    },
    {
     "name": "stderr",
     "output_type": "stream",
     "text": [
      "100%|████████████████████████████████████████████████████████████████████████████████| 59/59 [00:13<00:00,  4.42batch/s]\n"
     ]
    },
    {
     "name": "stdout",
     "output_type": "stream",
     "text": [
      "Accuracy for y=0, s=0: 0.8512396694214877 4356.0\n",
      "Accuracy for y=0, s=1: 0.7351513420902341 7004.0\n",
      "Accuracy for y=1, s=0: 0.8312387791741472 557.0\n",
      "Accuracy for y=1, s=1: 0.8339166401527204 3143.0\n"
     ]
    },
    {
     "name": "stderr",
     "output_type": "stream",
     "text": [
      "epoch 72.000000 : 100%|████████████████████████████████████████████████| 89/89 [00:33<00:00,  2.65batch/s, ut_loss=2.67]\n"
     ]
    },
    {
     "name": "stdout",
     "output_type": "stream",
     "text": [
      "Testing\n"
     ]
    },
    {
     "name": "stderr",
     "output_type": "stream",
     "text": [
      "100%|████████████████████████████████████████████████████████████████████████████████| 59/59 [00:13<00:00,  4.51batch/s]\n"
     ]
    },
    {
     "name": "stdout",
     "output_type": "stream",
     "text": [
      "Accuracy for y=0, s=0: 0.8409090909090909 4356.0\n",
      "Accuracy for y=0, s=1: 0.7060251284980011 7004.0\n",
      "Accuracy for y=1, s=0: 0.8384201077199281 557.0\n",
      "Accuracy for y=1, s=1: 0.8654152083996182 3143.0\n"
     ]
    },
    {
     "name": "stderr",
     "output_type": "stream",
     "text": [
      "epoch 73.000000 : 100%|████████████████████████████████████████████████| 89/89 [00:34<00:00,  2.62batch/s, ut_loss=1.19]\n"
     ]
    },
    {
     "name": "stdout",
     "output_type": "stream",
     "text": [
      "Testing\n"
     ]
    },
    {
     "name": "stderr",
     "output_type": "stream",
     "text": [
      "100%|████████████████████████████████████████████████████████████████████████████████| 59/59 [00:13<00:00,  4.54batch/s]\n"
     ]
    },
    {
     "name": "stdout",
     "output_type": "stream",
     "text": [
      "Accuracy for y=0, s=0: 0.8569788797061524 4356.0\n",
      "Accuracy for y=0, s=1: 0.7451456310679612 7004.0\n",
      "Accuracy for y=1, s=0: 0.8258527827648114 557.0\n",
      "Accuracy for y=1, s=1: 0.8278714603881642 3143.0\n"
     ]
    },
    {
     "name": "stderr",
     "output_type": "stream",
     "text": [
      "epoch 74.000000 : 100%|████████████████████████████████████████████████| 89/89 [00:30<00:00,  2.91batch/s, ut_loss=1.62]\n"
     ]
    },
    {
     "name": "stdout",
     "output_type": "stream",
     "text": [
      "Testing\n"
     ]
    },
    {
     "name": "stderr",
     "output_type": "stream",
     "text": [
      "100%|████████████████████████████████████████████████████████████████████████████████| 59/59 [00:12<00:00,  4.58batch/s]\n"
     ]
    },
    {
     "name": "stdout",
     "output_type": "stream",
     "text": [
      "Accuracy for y=0, s=0: 0.8638659320477502 4356.0\n",
      "Accuracy for y=0, s=1: 0.7498572244431754 7004.0\n",
      "Accuracy for y=1, s=0: 0.8168761220825853 557.0\n",
      "Accuracy for y=1, s=1: 0.8199172764874324 3143.0\n"
     ]
    },
    {
     "name": "stderr",
     "output_type": "stream",
     "text": [
      "epoch 75.000000 : 100%|████████████████████████████████████████████████| 89/89 [00:33<00:00,  2.69batch/s, ut_loss=1.13]\n"
     ]
    },
    {
     "name": "stdout",
     "output_type": "stream",
     "text": [
      "Testing\n"
     ]
    },
    {
     "name": "stderr",
     "output_type": "stream",
     "text": [
      "100%|████████████████████████████████████████████████████████████████████████████████| 59/59 [00:13<00:00,  4.50batch/s]\n"
     ]
    },
    {
     "name": "stdout",
     "output_type": "stream",
     "text": [
      "Accuracy for y=0, s=0: 0.8663911845730028 4356.0\n",
      "Accuracy for y=0, s=1: 0.7535693889206168 7004.0\n",
      "Accuracy for y=1, s=0: 0.8168761220825853 557.0\n",
      "Accuracy for y=1, s=1: 0.8132357620108177 3143.0\n"
     ]
    },
    {
     "name": "stderr",
     "output_type": "stream",
     "text": [
      "epoch 76.000000 : 100%|████████████████████████████████████████████████| 89/89 [00:34<00:00,  2.58batch/s, ut_loss=1.31]\n"
     ]
    },
    {
     "name": "stdout",
     "output_type": "stream",
     "text": [
      "Testing\n"
     ]
    },
    {
     "name": "stderr",
     "output_type": "stream",
     "text": [
      "100%|████████████████████████████████████████████████████████████████████████████████| 59/59 [00:14<00:00,  4.18batch/s]\n"
     ]
    },
    {
     "name": "stdout",
     "output_type": "stream",
     "text": [
      "Accuracy for y=0, s=0: 0.8670798898071626 4356.0\n",
      "Accuracy for y=0, s=1: 0.7438606510565391 7004.0\n",
      "Accuracy for y=1, s=0: 0.8114901256732495 557.0\n",
      "Accuracy for y=1, s=1: 0.8269169583200764 3143.0\n"
     ]
    },
    {
     "name": "stderr",
     "output_type": "stream",
     "text": [
      "epoch 77.000000 : 100%|████████████████████████████████████████████████| 89/89 [00:35<00:00,  2.48batch/s, ut_loss=1.39]\n"
     ]
    },
    {
     "name": "stdout",
     "output_type": "stream",
     "text": [
      "Testing\n"
     ]
    },
    {
     "name": "stderr",
     "output_type": "stream",
     "text": [
      "100%|████████████████████████████████████████████████████████████████████████████████| 59/59 [00:13<00:00,  4.28batch/s]\n"
     ]
    },
    {
     "name": "stdout",
     "output_type": "stream",
     "text": [
      "Accuracy for y=0, s=0: 0.8666207529843893 4356.0\n",
      "Accuracy for y=0, s=1: 0.7551399200456882 7004.0\n",
      "Accuracy for y=1, s=0: 0.8168761220825853 557.0\n",
      "Accuracy for y=1, s=1: 0.8154629335030226 3143.0\n"
     ]
    },
    {
     "name": "stderr",
     "output_type": "stream",
     "text": [
      "epoch 78.000000 : 100%|████████████████████████████████████████████████| 89/89 [00:35<00:00,  2.50batch/s, ut_loss=1.27]\n"
     ]
    },
    {
     "name": "stdout",
     "output_type": "stream",
     "text": [
      "Testing\n"
     ]
    },
    {
     "name": "stderr",
     "output_type": "stream",
     "text": [
      "100%|████████████████████████████████████████████████████████████████████████████████| 59/59 [00:13<00:00,  4.31batch/s]\n"
     ]
    },
    {
     "name": "stdout",
     "output_type": "stream",
     "text": [
      "Accuracy for y=0, s=0: 0.8542240587695134 4356.0\n",
      "Accuracy for y=0, s=1: 0.7452884066247858 7004.0\n",
      "Accuracy for y=1, s=0: 0.8240574506283662 557.0\n",
      "Accuracy for y=1, s=1: 0.8215081132675788 3143.0\n"
     ]
    },
    {
     "name": "stderr",
     "output_type": "stream",
     "text": [
      "epoch 79.000000 : 100%|████████████████████████████████████████████████| 89/89 [00:35<00:00,  2.51batch/s, ut_loss=1.06]\n"
     ]
    },
    {
     "name": "stdout",
     "output_type": "stream",
     "text": [
      "Testing\n"
     ]
    },
    {
     "name": "stderr",
     "output_type": "stream",
     "text": [
      "100%|████████████████████████████████████████████████████████████████████████████████| 59/59 [00:13<00:00,  4.30batch/s]\n"
     ]
    },
    {
     "name": "stdout",
     "output_type": "stream",
     "text": [
      "Accuracy for y=0, s=0: 0.8560606060606061 4356.0\n",
      "Accuracy for y=0, s=1: 0.7571387778412336 7004.0\n",
      "Accuracy for y=1, s=0: 0.8276481149012568 557.0\n",
      "Accuracy for y=1, s=1: 0.8103722558065543 3143.0\n"
     ]
    },
    {
     "name": "stderr",
     "output_type": "stream",
     "text": [
      "epoch 80.000000 : 100%|████████████████████████████████████████████████| 89/89 [00:34<00:00,  2.61batch/s, ut_loss=1.14]\n"
     ]
    },
    {
     "name": "stdout",
     "output_type": "stream",
     "text": [
      "Testing\n"
     ]
    },
    {
     "name": "stderr",
     "output_type": "stream",
     "text": [
      "100%|████████████████████████████████████████████████████████████████████████████████| 59/59 [00:13<00:00,  4.44batch/s]\n"
     ]
    },
    {
     "name": "stdout",
     "output_type": "stream",
     "text": [
      "Accuracy for y=0, s=0: 0.8542240587695134 4356.0\n",
      "Accuracy for y=0, s=1: 0.7397201599086236 7004.0\n",
      "Accuracy for y=1, s=0: 0.8330341113105925 557.0\n",
      "Accuracy for y=1, s=1: 0.8310531339484569 3143.0\n"
     ]
    },
    {
     "name": "stderr",
     "output_type": "stream",
     "text": [
      "epoch 81.000000 : 100%|████████████████████████████████████████████████| 89/89 [00:32<00:00,  2.73batch/s, ut_loss=1.22]\n"
     ]
    },
    {
     "name": "stdout",
     "output_type": "stream",
     "text": [
      "Testing\n"
     ]
    },
    {
     "name": "stderr",
     "output_type": "stream",
     "text": [
      "100%|████████████████████████████████████████████████████████████████████████████████| 59/59 [00:13<00:00,  4.52batch/s]\n"
     ]
    },
    {
     "name": "stdout",
     "output_type": "stream",
     "text": [
      "Accuracy for y=0, s=0: 0.8700642791551882 4356.0\n",
      "Accuracy for y=0, s=1: 0.7538549400342661 7004.0\n",
      "Accuracy for y=1, s=0: 0.8043087971274686 557.0\n",
      "Accuracy for y=1, s=1: 0.8173719376391982 3143.0\n"
     ]
    },
    {
     "name": "stderr",
     "output_type": "stream",
     "text": [
      "epoch 82.000000 : 100%|████████████████████████████████████████████████| 89/89 [00:34<00:00,  2.58batch/s, ut_loss=1.34]\n"
     ]
    },
    {
     "name": "stdout",
     "output_type": "stream",
     "text": [
      "Testing\n"
     ]
    },
    {
     "name": "stderr",
     "output_type": "stream",
     "text": [
      "100%|████████████████████████████████████████████████████████████████████████████████| 59/59 [00:13<00:00,  4.40batch/s]\n"
     ]
    },
    {
     "name": "stdout",
     "output_type": "stream",
     "text": [
      "Accuracy for y=0, s=0: 0.8604224058769513 4356.0\n",
      "Accuracy for y=0, s=1: 0.7512849800114221 7004.0\n",
      "Accuracy for y=1, s=0: 0.8186714542190305 557.0\n",
      "Accuracy for y=1, s=1: 0.8148265987909641 3143.0\n"
     ]
    },
    {
     "name": "stderr",
     "output_type": "stream",
     "text": [
      "epoch 83.000000 : 100%|████████████████████████████████████████████████| 89/89 [00:34<00:00,  2.60batch/s, ut_loss=1.48]\n"
     ]
    },
    {
     "name": "stdout",
     "output_type": "stream",
     "text": [
      "Testing\n"
     ]
    },
    {
     "name": "stderr",
     "output_type": "stream",
     "text": [
      "100%|████████████████████████████████████████████████████████████████████████████████| 59/59 [00:13<00:00,  4.37batch/s]\n"
     ]
    },
    {
     "name": "stdout",
     "output_type": "stream",
     "text": [
      "Accuracy for y=0, s=0: 0.8601928374655647 4356.0\n",
      "Accuracy for y=0, s=1: 0.7454311821816105 7004.0\n",
      "Accuracy for y=1, s=0: 0.8186714542190305 557.0\n",
      "Accuracy for y=1, s=1: 0.8205536111994909 3143.0\n"
     ]
    },
    {
     "name": "stderr",
     "output_type": "stream",
     "text": [
      "epoch 84.000000 : 100%|████████████████████████████████████████████████| 89/89 [00:35<00:00,  2.51batch/s, ut_loss=1.73]\n"
     ]
    },
    {
     "name": "stdout",
     "output_type": "stream",
     "text": [
      "Testing\n"
     ]
    },
    {
     "name": "stderr",
     "output_type": "stream",
     "text": [
      "100%|████████████████████████████████████████████████████████████████████████████████| 59/59 [00:13<00:00,  4.37batch/s]\n"
     ]
    },
    {
     "name": "stdout",
     "output_type": "stream",
     "text": [
      "Accuracy for y=0, s=0: 0.8445821854912764 4356.0\n",
      "Accuracy for y=0, s=1: 0.7177327241576242 7004.0\n",
      "Accuracy for y=1, s=0: 0.8384201077199281 557.0\n",
      "Accuracy for y=1, s=1: 0.847597836461979 3143.0\n"
     ]
    },
    {
     "name": "stderr",
     "output_type": "stream",
     "text": [
      "epoch 85.000000 : 100%|████████████████████████████████████████████████| 89/89 [00:33<00:00,  2.66batch/s, ut_loss=1.41]\n"
     ]
    },
    {
     "name": "stdout",
     "output_type": "stream",
     "text": [
      "Testing\n"
     ]
    },
    {
     "name": "stderr",
     "output_type": "stream",
     "text": [
      "100%|████████████████████████████████████████████████████████████████████████████████| 59/59 [00:13<00:00,  4.36batch/s]\n"
     ]
    },
    {
     "name": "stdout",
     "output_type": "stream",
     "text": [
      "Accuracy for y=0, s=0: 0.8585858585858586 4356.0\n",
      "Accuracy for y=0, s=1: 0.7470017133066819 7004.0\n",
      "Accuracy for y=1, s=0: 0.8186714542190305 557.0\n",
      "Accuracy for y=1, s=1: 0.8202354438434617 3143.0\n"
     ]
    },
    {
     "name": "stderr",
     "output_type": "stream",
     "text": [
      "epoch 86.000000 : 100%|█████████████████████████████████████████████████| 89/89 [00:35<00:00,  2.52batch/s, ut_loss=1.9]\n"
     ]
    },
    {
     "name": "stdout",
     "output_type": "stream",
     "text": [
      "Testing\n"
     ]
    },
    {
     "name": "stderr",
     "output_type": "stream",
     "text": [
      "100%|████████████████████████████████████████████████████████████████████████████████| 59/59 [00:13<00:00,  4.41batch/s]\n"
     ]
    },
    {
     "name": "stdout",
     "output_type": "stream",
     "text": [
      "Accuracy for y=0, s=0: 0.8620293847566575 4356.0\n",
      "Accuracy for y=0, s=1: 0.7557110222729868 7004.0\n",
      "Accuracy for y=1, s=0: 0.8276481149012568 557.0\n",
      "Accuracy for y=1, s=1: 0.8141902640789055 3143.0\n"
     ]
    },
    {
     "name": "stderr",
     "output_type": "stream",
     "text": [
      "epoch 87.000000 : 100%|████████████████████████████████████████████████| 89/89 [00:34<00:00,  2.57batch/s, ut_loss=1.49]\n"
     ]
    },
    {
     "name": "stdout",
     "output_type": "stream",
     "text": [
      "Testing\n"
     ]
    },
    {
     "name": "stderr",
     "output_type": "stream",
     "text": [
      "100%|████████████████████████████████████████████████████████████████████████████████| 59/59 [00:13<00:00,  4.47batch/s]\n"
     ]
    },
    {
     "name": "stdout",
     "output_type": "stream",
     "text": [
      "Accuracy for y=0, s=0: 0.8702938475665748 4356.0\n",
      "Accuracy for y=0, s=1: 0.7609937178754997 7004.0\n",
      "Accuracy for y=1, s=0: 0.8150807899461401 557.0\n",
      "Accuracy for y=1, s=1: 0.8078269169583201 3143.0\n"
     ]
    },
    {
     "name": "stderr",
     "output_type": "stream",
     "text": [
      "epoch 88.000000 : 100%|████████████████████████████████████████████████| 89/89 [00:34<00:00,  2.57batch/s, ut_loss=1.38]\n"
     ]
    },
    {
     "name": "stdout",
     "output_type": "stream",
     "text": [
      "Testing\n"
     ]
    },
    {
     "name": "stderr",
     "output_type": "stream",
     "text": [
      "100%|████████████████████████████████████████████████████████████████████████████████| 59/59 [00:13<00:00,  4.34batch/s]\n"
     ]
    },
    {
     "name": "stdout",
     "output_type": "stream",
     "text": [
      "Accuracy for y=0, s=0: 0.8546831955922864 4356.0\n",
      "Accuracy for y=0, s=1: 0.7341519131924614 7004.0\n",
      "Accuracy for y=1, s=0: 0.8258527827648114 557.0\n",
      "Accuracy for y=1, s=1: 0.8361438116449252 3143.0\n"
     ]
    },
    {
     "name": "stderr",
     "output_type": "stream",
     "text": [
      "epoch 89.000000 : 100%|████████████████████████████████████████████████| 89/89 [00:35<00:00,  2.52batch/s, ut_loss=1.53]\n"
     ]
    },
    {
     "name": "stdout",
     "output_type": "stream",
     "text": [
      "Testing\n"
     ]
    },
    {
     "name": "stderr",
     "output_type": "stream",
     "text": [
      "100%|████████████████████████████████████████████████████████████████████████████████| 59/59 [00:13<00:00,  4.27batch/s]\n"
     ]
    },
    {
     "name": "stdout",
     "output_type": "stream",
     "text": [
      "Accuracy for y=0, s=0: 0.8507805325987144 4356.0\n",
      "Accuracy for y=0, s=1: 0.7377213021130783 7004.0\n",
      "Accuracy for y=1, s=0: 0.8312387791741472 557.0\n",
      "Accuracy for y=1, s=1: 0.8339166401527204 3143.0\n"
     ]
    },
    {
     "name": "stderr",
     "output_type": "stream",
     "text": [
      "epoch 90.000000 : 100%|████████████████████████████████████████████████| 89/89 [00:33<00:00,  2.63batch/s, ut_loss=1.51]\n"
     ]
    },
    {
     "name": "stdout",
     "output_type": "stream",
     "text": [
      "Testing\n"
     ]
    },
    {
     "name": "stderr",
     "output_type": "stream",
     "text": [
      "100%|████████████████████████████████████████████████████████████████████████████████| 59/59 [00:13<00:00,  4.31batch/s]\n"
     ]
    },
    {
     "name": "stdout",
     "output_type": "stream",
     "text": [
      "Accuracy for y=0, s=0: 0.869605142332415 4356.0\n",
      "Accuracy for y=0, s=1: 0.7737007424328954 7004.0\n",
      "Accuracy for y=1, s=0: 0.8025134649910234 557.0\n",
      "Accuracy for y=1, s=1: 0.7928730512249443 3143.0\n"
     ]
    },
    {
     "name": "stderr",
     "output_type": "stream",
     "text": [
      "epoch 91.000000 : 100%|████████████████████████████████████████████████| 89/89 [00:35<00:00,  2.49batch/s, ut_loss=1.74]\n"
     ]
    },
    {
     "name": "stdout",
     "output_type": "stream",
     "text": [
      "Testing\n"
     ]
    },
    {
     "name": "stderr",
     "output_type": "stream",
     "text": [
      "100%|████████████████████████████████████████████████████████████████████████████████| 59/59 [00:13<00:00,  4.37batch/s]\n"
     ]
    },
    {
     "name": "stdout",
     "output_type": "stream",
     "text": [
      "Accuracy for y=0, s=0: 0.8556014692378329 4356.0\n",
      "Accuracy for y=0, s=1: 0.711736150770988 7004.0\n",
      "Accuracy for y=1, s=0: 0.8276481149012568 557.0\n",
      "Accuracy for y=1, s=1: 0.8596881959910914 3143.0\n"
     ]
    },
    {
     "name": "stderr",
     "output_type": "stream",
     "text": [
      "epoch 92.000000 : 100%|████████████████████████████████████████████████| 89/89 [00:33<00:00,  2.68batch/s, ut_loss=1.29]\n"
     ]
    },
    {
     "name": "stdout",
     "output_type": "stream",
     "text": [
      "Testing\n"
     ]
    },
    {
     "name": "stderr",
     "output_type": "stream",
     "text": [
      "100%|████████████████████████████████████████████████████████████████████████████████| 59/59 [00:13<00:00,  4.29batch/s]\n"
     ]
    },
    {
     "name": "stdout",
     "output_type": "stream",
     "text": [
      "Accuracy for y=0, s=0: 0.8647842056932966 4356.0\n",
      "Accuracy for y=0, s=1: 0.7661336379211879 7004.0\n",
      "Accuracy for y=1, s=0: 0.8186714542190305 557.0\n",
      "Accuracy for y=1, s=1: 0.7976455615653834 3143.0\n"
     ]
    },
    {
     "name": "stderr",
     "output_type": "stream",
     "text": [
      "epoch 93.000000 : 100%|████████████████████████████████████████████████| 89/89 [00:34<00:00,  2.58batch/s, ut_loss=1.37]\n"
     ]
    },
    {
     "name": "stdout",
     "output_type": "stream",
     "text": [
      "Testing\n"
     ]
    },
    {
     "name": "stderr",
     "output_type": "stream",
     "text": [
      "100%|████████████████████████████████████████████████████████████████████████████████| 59/59 [00:13<00:00,  4.33batch/s]\n"
     ]
    },
    {
     "name": "stdout",
     "output_type": "stream",
     "text": [
      "Accuracy for y=0, s=0: 0.8629476584022039 4356.0\n",
      "Accuracy for y=0, s=1: 0.7519988577955454 7004.0\n",
      "Accuracy for y=1, s=0: 0.8150807899461401 557.0\n",
      "Accuracy for y=1, s=1: 0.8189627744193446 3143.0\n"
     ]
    },
    {
     "name": "stderr",
     "output_type": "stream",
     "text": [
      "epoch 94.000000 : 100%|████████████████████████████████████████████████| 89/89 [00:36<00:00,  2.47batch/s, ut_loss=1.34]\n"
     ]
    },
    {
     "name": "stdout",
     "output_type": "stream",
     "text": [
      "Testing\n"
     ]
    },
    {
     "name": "stderr",
     "output_type": "stream",
     "text": [
      "100%|████████████████████████████████████████████████████████████████████████████████| 59/59 [00:13<00:00,  4.31batch/s]\n"
     ]
    },
    {
     "name": "stdout",
     "output_type": "stream",
     "text": [
      "Accuracy for y=0, s=0: 0.8631772268135904 4356.0\n",
      "Accuracy for y=0, s=1: 0.7579954311821816 7004.0\n",
      "Accuracy for y=1, s=0: 0.8168761220825853 557.0\n",
      "Accuracy for y=1, s=1: 0.8148265987909641 3143.0\n"
     ]
    },
    {
     "name": "stderr",
     "output_type": "stream",
     "text": [
      "epoch 95.000000 : 100%|████████████████████████████████████████████████| 89/89 [00:35<00:00,  2.49batch/s, ut_loss=1.34]\n"
     ]
    },
    {
     "name": "stdout",
     "output_type": "stream",
     "text": [
      "Testing\n"
     ]
    },
    {
     "name": "stderr",
     "output_type": "stream",
     "text": [
      "100%|████████████████████████████████████████████████████████████████████████████████| 59/59 [00:13<00:00,  4.38batch/s]\n"
     ]
    },
    {
     "name": "stdout",
     "output_type": "stream",
     "text": [
      "Accuracy for y=0, s=0: 0.8629476584022039 4356.0\n",
      "Accuracy for y=0, s=1: 0.7547115933752142 7004.0\n",
      "Accuracy for y=1, s=0: 0.8150807899461401 557.0\n",
      "Accuracy for y=1, s=1: 0.818326439707286 3143.0\n"
     ]
    },
    {
     "name": "stderr",
     "output_type": "stream",
     "text": [
      "epoch 96.000000 : 100%|█████████████████████████████████████████████████| 89/89 [00:33<00:00,  2.62batch/s, ut_loss=1.5]\n"
     ]
    },
    {
     "name": "stdout",
     "output_type": "stream",
     "text": [
      "Testing\n"
     ]
    },
    {
     "name": "stderr",
     "output_type": "stream",
     "text": [
      "100%|████████████████████████████████████████████████████████████████████████████████| 59/59 [00:13<00:00,  4.28batch/s]\n"
     ]
    },
    {
     "name": "stdout",
     "output_type": "stream",
     "text": [
      "Accuracy for y=0, s=0: 0.8491735537190083 4356.0\n",
      "Accuracy for y=0, s=1: 0.7528555111364934 7004.0\n",
      "Accuracy for y=1, s=0: 0.8276481149012568 557.0\n",
      "Accuracy for y=1, s=1: 0.8141902640789055 3143.0\n"
     ]
    },
    {
     "name": "stderr",
     "output_type": "stream",
     "text": [
      "epoch 97.000000 : 100%|████████████████████████████████████████████████| 89/89 [00:33<00:00,  2.64batch/s, ut_loss=1.39]\n"
     ]
    },
    {
     "name": "stdout",
     "output_type": "stream",
     "text": [
      "Testing\n"
     ]
    },
    {
     "name": "stderr",
     "output_type": "stream",
     "text": [
      "100%|████████████████████████████████████████████████████████████████████████████████| 59/59 [00:13<00:00,  4.32batch/s]\n"
     ]
    },
    {
     "name": "stdout",
     "output_type": "stream",
     "text": [
      "Accuracy for y=0, s=0: 0.858356290174472 4356.0\n",
      "Accuracy for y=0, s=1: 0.7490005711022273 7004.0\n",
      "Accuracy for y=1, s=0: 0.8186714542190305 557.0\n",
      "Accuracy for y=1, s=1: 0.8192809417753738 3143.0\n"
     ]
    },
    {
     "name": "stderr",
     "output_type": "stream",
     "text": [
      "epoch 98.000000 : 100%|████████████████████████████████████████████████| 89/89 [00:35<00:00,  2.53batch/s, ut_loss=1.13]\n"
     ]
    },
    {
     "name": "stdout",
     "output_type": "stream",
     "text": [
      "Testing\n"
     ]
    },
    {
     "name": "stderr",
     "output_type": "stream",
     "text": [
      "100%|████████████████████████████████████████████████████████████████████████████████| 59/59 [00:13<00:00,  4.37batch/s]\n"
     ]
    },
    {
     "name": "stdout",
     "output_type": "stream",
     "text": [
      "Accuracy for y=0, s=0: 0.8613406795224977 4356.0\n",
      "Accuracy for y=0, s=1: 0.7514277555682467 7004.0\n",
      "Accuracy for y=1, s=0: 0.8204667863554758 557.0\n",
      "Accuracy for y=1, s=1: 0.813553929366847 3143.0\n"
     ]
    },
    {
     "name": "stderr",
     "output_type": "stream",
     "text": [
      "epoch 99.000000 : 100%|████████████████████████████████████████████████| 89/89 [00:35<00:00,  2.54batch/s, ut_loss=1.92]\n"
     ]
    },
    {
     "name": "stdout",
     "output_type": "stream",
     "text": [
      "Testing\n"
     ]
    },
    {
     "name": "stderr",
     "output_type": "stream",
     "text": [
      "100%|████████████████████████████████████████████████████████████████████████████████| 59/59 [00:13<00:00,  4.33batch/s]\n"
     ]
    },
    {
     "name": "stdout",
     "output_type": "stream",
     "text": [
      "Accuracy for y=0, s=0: 0.8601928374655647 4356.0\n",
      "Accuracy for y=0, s=1: 0.7602798400913764 7004.0\n",
      "Accuracy for y=1, s=0: 0.822262118491921 557.0\n",
      "Accuracy for y=1, s=1: 0.8027362392618518 3143.0\n",
      "************Evaluation************\n"
     ]
    },
    {
     "name": "stderr",
     "output_type": "stream",
     "text": [
      "100%|████████████████████████████████████████████████████████████████████████████████| 59/59 [00:12<00:00,  4.69batch/s]\n"
     ]
    },
    {
     "name": "stdout",
     "output_type": "stream",
     "text": [
      "Accuracy for y=0, s=0: 0.8778696051423324 4356.0\n",
      "Accuracy for y=0, s=1: 0.7824100513992005 7004.0\n",
      "Accuracy for y=1, s=0: 0.8043087971274686 557.0\n",
      "Accuracy for y=1, s=1: 0.7836461979000955 3143.0\n",
      "DP 0.19345322517390454\n",
      "EOP 0.020662599227373124\n",
      "EoD 0.05806107648525255\n",
      "acc 0.8110889774236387\n"
     ]
    }
   ],
   "source": [
    "from sklearn.metrics import confusion_matrix, accuracy_score\n",
    "\n",
    "\n",
    "\n",
    "def test(net, classifier, dataloader, print_fairness=True):\n",
    "    net.eval()\n",
    "    test_pred = []\n",
    "    test_gt = []\n",
    "    sense_gt = []\n",
    "    female_predic = []\n",
    "    female_gt = []\n",
    "    male_predic = []\n",
    "    male_gt = []\n",
    "    correct_00, total_00 = 0, 0\n",
    "    correct_01, total_01 = 0, 0\n",
    "    correct_10, total_10 = 0, 0\n",
    "    correct_11, total_11 = 0, 0\n",
    "    classifier = classifier.to(device)\n",
    "    with torch.no_grad():\n",
    "        with tqdm(dataloader, unit=\"batch\") as tepoch:\n",
    "            for content in tepoch:\n",
    "                test, label, sensitive = content\n",
    "                test = test.to(device)\n",
    "                \n",
    "                mask_00 = ((label == 0) & (sensitive == 0))\n",
    "                mask_01 = ((label == 0) & (sensitive == 1))\n",
    "                mask_10 = ((label == 1) & (sensitive == 0))\n",
    "                mask_11 = ((label == 1) & (sensitive == 1))\n",
    "                test_feature = net(test)\n",
    "                prediction = classifier(test_feature)\n",
    "                _, predic = torch.max(prediction.data, 1)\n",
    "                predic = predic.detach().cpu()\n",
    "                test_pred.extend(predic.numpy())\n",
    "                test_gt.extend(label)\n",
    "                sense_gt.extend(sensitive)\n",
    "                correct_00 += (predic[mask_00] == label[mask_00]).float().sum().item()\n",
    "                total_00 += mask_00.float().sum().item()\n",
    "\n",
    "                correct_01 += (predic[mask_01] == label[mask_01]).float().sum().item()\n",
    "                total_01 += mask_01.float().sum().item()\n",
    "\n",
    "                correct_10 += (predic[mask_10] == label[mask_10]).float().sum().item()\n",
    "                total_10 += mask_10.float().sum().item()\n",
    "\n",
    "                correct_11 += (predic[mask_11] == label[mask_11]).float().sum().item()\n",
    "                total_11 += mask_11.float().sum().item() \n",
    "                \n",
    "        acc_00 = correct_00 / total_00\n",
    "        acc_01 = correct_01 / total_01\n",
    "        acc_10 = correct_10 / total_10\n",
    "        acc_11 = correct_11 / total_11\n",
    "\n",
    "        print(f'Accuracy for y=0, s=0: {acc_00}', total_00)\n",
    "        print(f'Accuracy for y=0, s=1: {acc_01}', total_01)\n",
    "        print(f'Accuracy for y=1, s=0: {acc_10}', total_10)\n",
    "        print(f'Accuracy for y=1, s=1: {acc_11}', total_11)  \n",
    "        wga = min(acc_00, acc_01, acc_10, acc_11)\n",
    "\n",
    "\n",
    "        for i in range(len(sense_gt)):\n",
    "            if sense_gt[i] == 0:\n",
    "                female_predic.append(test_pred[i])\n",
    "                female_gt.append(test_gt[i])\n",
    "            else:\n",
    "                male_predic.append(test_pred[i])\n",
    "                male_gt.append(test_gt[i])\n",
    "\n",
    "        female_CM = confusion_matrix(female_gt, female_predic)    \n",
    "        male_CM = confusion_matrix(male_gt, male_predic) \n",
    "        female_dp = (female_CM[1][1]+female_CM[0][1])/(female_CM[0][0]+female_CM[0][1]+female_CM[1][0]+female_CM[1][1])\n",
    "        male_dp = (male_CM[1][1]+male_CM[0][1])/(male_CM[0][0]+male_CM[0][1]+male_CM[1][0]+male_CM[1][1])\n",
    "        female_TPR = female_CM[1][1]/(female_CM[1][1]+female_CM[1][0])\n",
    "        male_TPR = male_CM[1][1]/(male_CM[1][1]+male_CM[1][0])\n",
    "        female_FPR = female_CM[0][1]/(female_CM[0][1]+female_CM[0][0])\n",
    "        male_FPR = male_CM[0][1]/(male_CM[0][1]+male_CM[0][0])\n",
    "        if print_fairness == True:\n",
    "            EOd = 0.5*(abs(female_FPR-male_FPR)+abs(female_TPR-male_TPR))\n",
    "            print('DP',abs(female_dp - male_dp))\n",
    "            print('EOP', abs(female_TPR - male_TPR))\n",
    "            print('EoD', EOd)\n",
    "            print('acc', accuracy_score(test_gt, test_pred))\n",
    "        else:\n",
    "            EOd = 0.5*(abs(female_FPR-male_FPR)+abs(female_TPR-male_TPR))\n",
    "        return accuracy_score(test_gt, test_pred), EOd, wga\n",
    "\n",
    "\n",
    "def train_model():\n",
    "    model = Tablur_Model()\n",
    "    model = model.to(device)\n",
    "    epoch = 100\n",
    "    criterion = nn.CrossEntropyLoss()\n",
    "    mean_criterion = nn.MSELoss()\n",
    "    acc = 0\n",
    "    optimizer = optim.Adam(filter(lambda p: p.requires_grad, model.parameters()), lr=1e-3)\n",
    "    train_loss = []\n",
    "    valid_loss =[]\n",
    "    wga = 0\n",
    "    classifier = nn.Linear(2*32, 2)\n",
    "        \n",
    "    for epoches in range(epoch):\n",
    "        with tqdm(training_loader, unit=\"batch\") as tepoch:\n",
    "            model.train()\n",
    "            running_loss = 0.0\n",
    "            feature_y_0_a0 = []\n",
    "            feature_y_0_a1 = []\n",
    "            feature_y_1_a0 = []\n",
    "            feature_y_1_a1 = []\n",
    "            loss00 = 0\n",
    "            loss01 = 0\n",
    "            loss10 = 0\n",
    "            loss11 = 0\n",
    "            \n",
    "            with torch.no_grad(): \n",
    "                for step, (valid_input, valid_target, validsensitive) in enumerate(valid_loader):\n",
    "                    valid_input = valid_input.to(device)\n",
    "                    with torch.no_grad():\n",
    "                        valid_feature = model(valid_input)\n",
    "                        label = valid_target.squeeze().detach().cpu()\n",
    "                        mask_00 = ((label == 0) & (validsensitive == 0))\n",
    "                        mask_01 = ((label == 0) & (validsensitive == 1))\n",
    "                        mask_10 = ((label == 1) & (validsensitive == 0))\n",
    "                        mask_11 = ((label == 1) & (validsensitive == 1))\n",
    "                        g1 = valid_feature[mask_00]\n",
    "                        g2 = valid_feature[mask_01]\n",
    "                        g3 = valid_feature[mask_10]\n",
    "                        g4 = valid_feature[mask_11]\n",
    "                        feature_y_0_a0.extend(g1.detach().cpu().numpy())\n",
    "                        feature_y_0_a1.extend(g2.detach().cpu().numpy())\n",
    "                        feature_y_1_a0.extend(g3.detach().cpu().numpy())\n",
    "                        feature_y_1_a1.extend(g4.detach().cpu().numpy())\n",
    "\n",
    "                feature_g2 = np.array(feature_y_0_a1)\n",
    "                feature_g4 = np.array(feature_y_1_a1)\n",
    "                feature_g2_tensor = torch.from_numpy(feature_g2)\n",
    "                feature_g4_tensor = torch.from_numpy(feature_g4)\n",
    "\n",
    "                mu_1 = torch.mean(feature_g2_tensor, 0)\n",
    "                mu_1 = mu_1 /torch.norm(mu_1)\n",
    "                mu_2 = torch.mean(feature_g4_tensor, 0)\n",
    "                mu_2 = mu_2 /torch.norm(mu_2)\n",
    "                weight = torch.cat((mu_1.unsqueeze(0), mu_2.unsqueeze(0)), 0)\n",
    "                #print(\"sim:\",  F.cosine_similarity(mu_1.unsqueeze(0), mu_2.unsqueeze(0)) )\n",
    "\n",
    "                with torch.no_grad():\n",
    "                    classifier.weight = nn.Parameter(weight)\n",
    "            \n",
    "            \n",
    "            \n",
    "            for train_input, train_target, sensitive in tepoch:\n",
    "                train_input = train_input.to(device)\n",
    "                label = train_target.detach().cpu() \n",
    "                one_hot_labels = F.one_hot(train_target, num_classes=2)\n",
    "                train_target = one_hot_labels.float().to(device)\n",
    "                \n",
    "                feature = model(train_input)\n",
    "                classifier = classifier.to(device)\n",
    "                outputs  = classifier(feature)\n",
    "            \n",
    "                mask_00 = ((label== 0) & (sensitive == 0))\n",
    "                mask_01 = ((label == 0) & (sensitive == 1))\n",
    "                mask_10 = ((label == 1) & (sensitive == 0))\n",
    "                mask_11 = ((label == 1) & (sensitive == 1))\n",
    "                \n",
    "                count_00 = mask_00.sum()\n",
    "                count_01 = mask_01.sum()\n",
    "                count_10 = mask_10.sum()\n",
    "                count_11 = mask_11.sum()\n",
    "                \n",
    "                if count_01==0 or count_10==0 or count_00 == 0 or count_11 == 0:\n",
    "                    continue\n",
    "                g1_f = feature[mask_00]\n",
    "                g2_f = feature[mask_01]\n",
    "                \n",
    "                mu1 = torch.mean(g1_f, 0)\n",
    "                mu2 = torch.mean(g2_f, 0)\n",
    "                    \n",
    "                g3_f = feature[mask_10]\n",
    "                g4_f = feature[mask_11]\n",
    "                \n",
    "                mu3 = torch.mean(g3_f, 0)\n",
    "                mu4 = torch.mean(g4_f, 0)\n",
    "                \n",
    "                loss_mean = mean_criterion(mu3, mu4) + mean_criterion(mu1, mu2)\n",
    "                \n",
    "                \n",
    "                if count_00 > 0:\n",
    "                    loss_00 = criterion(outputs[mask_00], train_target[mask_00])\n",
    "                    loss00 += loss_00.item()\n",
    "                else:\n",
    "                    loss_00 = torch.tensor(0)\n",
    "                if count_01 > 0:\n",
    "                    loss_01 = criterion(outputs[mask_01], train_target[mask_01])\n",
    "                    loss01 += loss_01.item()\n",
    "                else:\n",
    "                    loss_01 = torch.tensor(0)\n",
    "                if count_10 > 0:\n",
    "                    loss_10 = criterion(outputs[mask_10], train_target[mask_10])\n",
    "                    loss10 += loss_10.item()\n",
    "                else:\n",
    "                    loss_10 = torch.tensor(0)\n",
    "                if count_11 > 0:\n",
    "                    loss_11 = criterion(outputs[mask_11], train_target[mask_11])\n",
    "                    loss11 += loss_11.item()\n",
    "                else:\n",
    "                    loss_11 = torch.tensor(0)\n",
    "\n",
    "                loss = loss_00 + loss_01 + loss_10 + loss_11 + loss_mean\n",
    "                \n",
    "                tepoch.set_postfix(ut_loss = loss.item())\n",
    "\n",
    "                optimizer.zero_grad()    \n",
    "                loss.backward()\n",
    "                optimizer.step()\n",
    "                tepoch.set_description(f\"epoch %2f \" % epoches)\n",
    "        print('Testing')        \n",
    "        _,  _ , wg = test(model, classifier, test_loader, False)\n",
    "        if wg > wga:\n",
    "            torch.save(model, 'Adult_model.pth')\n",
    "            torch.save(classifier, 'classifier.pth')\n",
    "            wga = wg\n",
    "\n",
    "        \n",
    "\n",
    "train_model()\n",
    "print('************Evaluation************')\n",
    "model = Tablur_Model()\n",
    "classifier = nn.Linear(2*32, 2)\n",
    "model = torch.load('Adult_model.pth')\n",
    "model.eval()\n",
    "classifier = torch.load('classifier.pth')\n",
    "classifier.eval()\n",
    "_,  _ , _ = test(model, classifier, test_loader, True)\n"
   ]
  }
 ],
 "metadata": {
  "kernelspec": {
   "display_name": "Python (DLcourse)",
   "language": "python",
   "name": "dlcourse"
  },
  "language_info": {
   "codemirror_mode": {
    "name": "ipython",
    "version": 3
   },
   "file_extension": ".py",
   "mimetype": "text/x-python",
   "name": "python",
   "nbconvert_exporter": "python",
   "pygments_lexer": "ipython3",
   "version": "3.9.19"
  }
 },
 "nbformat": 4,
 "nbformat_minor": 5
}
